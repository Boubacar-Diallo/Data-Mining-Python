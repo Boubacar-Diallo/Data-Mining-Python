{
 "cells": [
  {
   "cell_type": "markdown",
   "metadata": {},
   "source": [
    "# Customer records and SQL queries\n",
    "\n",
    "## Author: Chisheng Li"
   ]
  },
  {
   "cell_type": "markdown",
   "metadata": {},
   "source": [
    "This project quickly conduct the appropriate SQL queries from 2 input XML files `customer.xml` and `nation.xml`. Create the tables in the database from the XML files and perform retrival operations on the tables that were created.\n",
    "\n",
    "Output: `customer.db`, `desiredCustomers.txt`, `marketSegments.txt` and `nationsBalance.txt`."
   ]
  },
  {
   "cell_type": "code",
   "execution_count": 1,
   "metadata": {
    "collapsed": true
   },
   "outputs": [],
   "source": [
    "import xml.etree.ElementTree as ET\n",
    "import sqlite3 as sqlite\n",
    "import sys"
   ]
  },
  {
   "cell_type": "code",
   "execution_count": 2,
   "metadata": {
    "collapsed": true
   },
   "outputs": [],
   "source": [
    "def check_result(result, desired):\n",
    "    if result != desired:\n",
    "        print \"NOT_OK.  Expected \" + desired + \"; but got \"+result\n",
    "    else:\n",
    "        print \"OK!\"\n",
    "    return"
   ]
  },
  {
   "cell_type": "code",
   "execution_count": 3,
   "metadata": {
    "collapsed": true
   },
   "outputs": [],
   "source": [
    "def read_xml_file(xml_filename, field_types):\n",
    "    tree = ET.parse(xml_filename)\n",
    "    root = tree.getroot()\n",
    "    lot = []\n",
    "    for child in root:\n",
    "        fields = []\n",
    "        for gc in child:\n",
    "            fields.append(gc.text)\n",
    "\n",
    "        field_list = []\n",
    "        count = 0\n",
    "        for f in fields:\n",
    "            t = field_types[count]\n",
    "            if t == 'int':\n",
    "                field_list.append(int(f))\n",
    "            elif t == 'string':\n",
    "                field_list.append(f)\n",
    "            elif t == 'float':\n",
    "                field_list.append(float(f))\n",
    "            else:\n",
    "                field_list.append(f)\n",
    "            count = count + 1\n",
    "        \n",
    "        lot.append(tuple(field_list))\n",
    "    return lot;"
   ]
  },
  {
   "cell_type": "markdown",
   "metadata": {},
   "source": [
    "The format of the customer.xml file records:\n",
    "```\n",
    "  <T>\n",
    "    <C_CUSTKEY>1</C_CUSTKEY>\n",
    "    <C_NAME>Customer#000000001</C_NAME>\n",
    "    <C_ADDRESS>IVhzIApeRb ot,c,E</C_ADDRESS>\n",
    "    <C_NATIONKEY>15</C_NATIONKEY>\n",
    "    <C_PHONE>25-989-741-2988</C_PHONE>\n",
    "    <C_ACCTBAL>711.56</C_ACCTBAL>\n",
    "    <C_MKTSEGMENT>BUILDING</C_MKTSEGMENT>\n",
    "    <C_COMMENT>regular, regular platelets are fluffily according to the even attainments. blithely iron</C_COMMENT>\n",
    "  </T>\n",
    "```"
   ]
  },
  {
   "cell_type": "code",
   "execution_count": 10,
   "metadata": {
    "collapsed": false
   },
   "outputs": [
    {
     "name": "stdout",
     "output_type": "stream",
     "text": [
      "customer count: \n",
      "OK!\n",
      "customer average: \n",
      "OK!\n"
     ]
    }
   ],
   "source": [
    "lot = read_xml_file(r'customer.xml',\n",
    "                    ['int', 'string', 'string', 'int', 'string', 'float', 'string', 'string'])\n",
    "\n",
    "with sqlite.connect(r'customer.db') as con: \n",
    "    cur = con.cursor()\n",
    "    # Write a SQL query to erase any existing \"customer\" table in the database\n",
    "    cur.execute(\"drop table if exists customer;\")\n",
    "    \n",
    "    # Write a SQL query to create a new \"customer\" table with the following columns:\n",
    "    # C_CUSTKEY (integer)  C_NAME (text)  C_ADDRESS (text)  C_NATIONKEY (integer)  C_PHONE (text)  C_ACCTBAL (real)  C_MKTSEGMENT (text)  C_COMMENT (text)\n",
    "    cur.execute(\"create table customer(C_CUSTKEY integer, C_NAME text, C_ADDRESS text, C_NATIONKEY integer, C_PHONE text, C_ACCTBAL real, C_MKTSEGMENT text, C_COMMENT text)\")\n",
    "    \n",
    "    # Write a SQL query to insert the values in the list-of-tuples variable lot into the customer table\n",
    "    cur.executemany(\"insert into customer values(?,?,?,?,?,?,?,?)\", lot)\n",
    "    con.commit()\n",
    "    \n",
    "    # Write a SQL query to compute the count of all records (rows) in the customer table\n",
    "    cur.execute(\"select Count(*) from customer;\")\n",
    "    print \"customer count: \" \n",
    "    check_result(str(cur.fetchone()[0]), \"1500\")\n",
    "    \n",
    "    # Write a SQL query to compute the average account balance (C_ACCTBAL) over all rows in the customer table.\n",
    "    cur.execute(\"select avg(C_ACCTBAL) from customer;\")\n",
    "    print \"customer average: \"\n",
    "    check_result(str(cur.fetchone()[0]), \"4454.57706\")\n",
    "    \n",
    "    # Write a SQL query to get the C_CUSTKEY, C_NAME, and C_ACCTBAL columns from the customer table that\n",
    "    # have C_ACCTBAL >= 1000, and sort the results by C_CUSTKEY\n",
    "    cur.execute(\"select C_CUSTKEY, C_NAME, C_ACCTBAL from customer where (C_ACCTBAL >= '1000') order by C_CUSTKEY; \")\n",
    "    \n",
    "    # fetchall() method gets all records. It returns a list of tuples.\n",
    "    # Each of the tuples represent a row in the table.\n",
    "    rows = cur.fetchall()\n",
    "    \n",
    "    f = open(r'desiredCustomers.txt', 'w')\n",
    "    f.write('Customer Key' + '\\t' + 'Name' + '\\t' + 'Account Balance\\n')\n",
    "    for row in rows:\n",
    "        f.write('\\t'.join([str(x) for x in row]) + '\\n')\n",
    "    f.close()\n",
    "    \n",
    "    # Write a SQL query to sum the C_ACCTBAL field by market segment C_MKTSEGMENT (call this total column T_ACCTBAL) and sorted by descending T_ACCTBAL\n",
    "    # Output columns should be C_MKTSEGMENT, and the sum over C_ACCTBAL (sorted by descending amount)\n",
    "    cur.execute(\"select C_MKTSEGMENT, sum(C_ACCTBAL) as T_ACCTBAL from customer group by C_MKTSEGMENT order by T_ACCTBAL desc; \")\n",
    "    # fetchall() method gets all records. It returns a list of tuples.\n",
    "    # Each of the tuples represent a row in the table.\n",
    "    rows = cur.fetchall()\n",
    "    \n",
    "    f = open(r'marketSegments.txt', 'w')\n",
    "    f.write('Market Segment' + '\\t' + 'Total Customer Account Balance\\n')\n",
    "    for row in rows:\n",
    "        f.write('\\t'.join([str(x) for x in row]) + '\\n')\n",
    "    f.close()"
   ]
  },
  {
   "cell_type": "markdown",
   "metadata": {},
   "source": [
    "The format of the nation.xml file records:\n",
    "```\n",
    "  <T>\n",
    "      <N_NATIONKEY>0</N_NATIONKEY>\n",
    "      <N_NAME>ALGERIA</N_NAME>\n",
    "      <N_REGIONKEY>0</N_REGIONKEY>\n",
    "      <N_COMMENT>final accounts wake quickly. special request</N_COMMENT>\n",
    "  </T>\n",
    "```"
   ]
  },
  {
   "cell_type": "code",
   "execution_count": 6,
   "metadata": {
    "collapsed": false
   },
   "outputs": [],
   "source": [
    "lot = read_xml_file(r'nation.xml', ['int', 'string', 'int', 'string'])\n",
    "\n",
    "with sqlite.connect(r'customer.db') as con: \n",
    "    cur = con.cursor()\n",
    "    # Write a SQL query to erase any existing \"nation\" table in the database\n",
    "    cur.execute(\"drop table if exists nation;\")\n",
    "    \n",
    "    # Write a SQL query to create a new \"nation\" table with the columns:  N_NATIONKEY (integer)  N_NAME (string)  N_REGIONKEY (integer)  C_COMMENT (text)\n",
    "    cur.execute(\"create table nation(N_NATIONKEY integer, N_NAME string, N_REGIONKEY integer, C_COMMENT text)\")\n",
    "    \n",
    "    # Write a single SQL query and cursor command here to insert all the tuples into the \"nation\" table, using the list-of-tuples variable \"lot\"\n",
    "    cur.executemany(\"insert into nation values(?,?,?,?)\", lot)\n",
    "    con.commit()\n",
    "    \n",
    "    # Write a SQL query to compute the total account balance (C_ACCTBAL) in the customer table for each nation.  The output columns\n",
    "    # should be N_NAME (country name) from the \"nation\" table and the total account balance, i.e. the sum of C_ACCTBAL in the \"customer\" table\n",
    "    # for records grouped by country.  The result should be sorted alphabetically by country name.\n",
    "    cur.execute(\"select nation.N_NAME, sum(customer.C_ACCTBAL) from nation, customer where customer.C_NATIONKEY=nation.N_NATIONKEY group by nation.N_NAME order by nation.N_NAME\")\n",
    "    # Each of the tuples represent a row in the table.\n",
    "    rows = cur.fetchall()\n",
    "    \n",
    "    f = open(r'nationsBalance.txt', 'w')\n",
    "    f.write('Nation Name' + '\\t' + 'Total Customer Account Balance\\n')\n",
    "    for row in rows:\n",
    "        f.write('\\t'.join([str(x) for x in row]) + '\\n')\n",
    "    f.close()"
   ]
  },
  {
   "cell_type": "code",
   "execution_count": null,
   "metadata": {
    "collapsed": true
   },
   "outputs": [],
   "source": []
  }
 ],
 "metadata": {
  "kernelspec": {
   "display_name": "Python 2",
   "language": "python",
   "name": "python2"
  },
  "language_info": {
   "codemirror_mode": {
    "name": "ipython",
    "version": 2
   },
   "file_extension": ".py",
   "mimetype": "text/x-python",
   "name": "python",
   "nbconvert_exporter": "python",
   "pygments_lexer": "ipython2",
   "version": "2.7.9"
  }
 },
 "nbformat": 4,
 "nbformat_minor": 0
}
