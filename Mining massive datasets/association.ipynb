{
 "cells": [
  {
   "cell_type": "markdown",
   "metadata": {},
   "source": [
    "# Association Rules \n",
    "Use the online browsing behavior dataset \"browsing.txt\". Each line represents a browsing session of a customer. On each line, each string of 8 characters represents the id of an item browsed during that session. The items are separated by spaces.\n",
    "\n",
    "List the top 15 rules with corresponding confidence scores in decreasing order of confidence score for itemsets of size 2. Then list the top 15 rules with corresponding confidence scores in decreasing order of confidence score for itemsets of size 3. A rule is of the form: (item1, item2) ⇒ item3. "
   ]
  },
  {
   "cell_type": "code",
   "execution_count": 1,
   "metadata": {
    "collapsed": true
   },
   "outputs": [],
   "source": [
    "from __future__ import division\n",
    "import itertools\n",
    "import operator\n",
    "from sys import argv "
   ]
  },
  {
   "cell_type": "code",
   "execution_count": 2,
   "metadata": {
    "collapsed": true
   },
   "outputs": [],
   "source": [
    "support = 99\n",
    "mappings = []\n",
    "itemCounts = []  \n",
    "transactions = 0  "
   ]
  },
  {
   "cell_type": "markdown",
   "metadata": {},
   "source": [
    "Count all items"
   ]
  },
  {
   "cell_type": "code",
   "execution_count": 3,
   "metadata": {
    "collapsed": true
   },
   "outputs": [],
   "source": [
    "data = open(\"browsing.txt\",\"r\")\n",
    "for basket in data:\n",
    "    #print basket\n",
    "    transactions += 1\n",
    "    for item in set(basket.split()):\n",
    "        #print item\n",
    "        if item not in mappings:\n",
    "            mappings.append(item)\n",
    "            itemCounts.append(1)\n",
    "        else:\n",
    "            indexItem = mappings.index(item)\n",
    "            counter = itemCounts[indexItem]\n",
    "            counter += 1\n",
    "            itemCounts[indexItem] = counter\n",
    "\n",
    "data.close()"
   ]
  },
  {
   "cell_type": "markdown",
   "metadata": {},
   "source": [
    "Get frequent items"
   ]
  },
  {
   "cell_type": "code",
   "execution_count": 4,
   "metadata": {
    "collapsed": true
   },
   "outputs": [],
   "source": [
    "frequentItems = [mappings.index(item) for item in mappings \\\n",
    "                 if itemCounts[mappings.index(item)] > support]"
   ]
  },
  {
   "cell_type": "markdown",
   "metadata": {},
   "source": [
    "Get all candidate pairs (all combination pairs of frequent items). "
   ]
  },
  {
   "cell_type": "code",
   "execution_count": 5,
   "metadata": {
    "collapsed": true
   },
   "outputs": [],
   "source": [
    "candidatePairs = {}\n",
    "for pair in itertools.combinations(sorted(frequentItems),2):\n",
    "    candidatePairs[pair] = 0  "
   ]
  },
  {
   "cell_type": "markdown",
   "metadata": {},
   "source": [
    "Get counts for all candidate pairs."
   ]
  },
  {
   "cell_type": "code",
   "execution_count": 6,
   "metadata": {
    "collapsed": true
   },
   "outputs": [],
   "source": [
    "data = open(\"browsing.txt\",\"r\")\n",
    "\n",
    "for basket in data:\n",
    "    fitems  = sorted( [ mappings.index(item) for item in set(basket.split()) ] )\n",
    "    # Generate pairs for them and update counts\n",
    "    for pair in itertools.combinations(fitems,2):\n",
    "        if pair in candidatePairs:\n",
    "            count = candidatePairs[pair]\n",
    "            count += 1\n",
    "            candidatePairs[pair] = count\n",
    "\n",
    "data.close()"
   ]
  },
  {
   "cell_type": "markdown",
   "metadata": {},
   "source": [
    "Get all frequent pairs"
   ]
  },
  {
   "cell_type": "code",
   "execution_count": 7,
   "metadata": {
    "collapsed": true
   },
   "outputs": [],
   "source": [
    "frequentPairs = sorted([k for k,v in candidatePairs.iteritems() if v > support])"
   ]
  },
  {
   "cell_type": "markdown",
   "metadata": {},
   "source": [
    "Generate candidate triples by frequentPairs JOIN frequentPairs"
   ]
  },
  {
   "cell_type": "code",
   "execution_count": 8,
   "metadata": {
    "collapsed": true
   },
   "outputs": [],
   "source": [
    "candidateTriples = {}\n",
    "allCandidateTriples = []\n",
    "for fcPair in frequentPairs:\n",
    "    for jp in [joinPair for joinPair in frequentPairs \\\n",
    "              if joinPair[0] == fcPair[1]]:\n",
    "        allCandidateTriples.append( (fcPair[0],fcPair[1],jp[1]) )"
   ]
  },
  {
   "cell_type": "markdown",
   "metadata": {},
   "source": [
    "Prune non frequent candidate triples "
   ]
  },
  {
   "cell_type": "code",
   "execution_count": 9,
   "metadata": {
    "collapsed": true
   },
   "outputs": [],
   "source": [
    "for candidate in allCandidateTriples:\n",
    "    whatAboutIt = True\n",
    "    for pair in itertools.combinations(candidate,2):\n",
    "        if pair not in frequentPairs:\n",
    "            whatAboutIt = False\n",
    "            break\n",
    "    if whatAboutIt:\n",
    "        candidateTriples[candidate] = 0"
   ]
  },
  {
   "cell_type": "markdown",
   "metadata": {},
   "source": [
    "Get count for candidate triples "
   ]
  },
  {
   "cell_type": "code",
   "execution_count": 10,
   "metadata": {
    "collapsed": true
   },
   "outputs": [],
   "source": [
    "data = open(\"browsing.txt\",\"r\")\n",
    "\n",
    "for basket in data:\n",
    "    items = sorted([mappings.index(item) for item in set(basket.split())])\n",
    "    \n",
    "    fPair = []\n",
    "    for triple in itertools.combinations(items,3):\n",
    "        if triple in candidateTriples:\n",
    "            tripleCount = candidateTriples[triple] \n",
    "            tripleCount = tripleCount +1\n",
    "            candidateTriples[triple] = tripleCount\n",
    "\n",
    "data.close()"
   ]
  },
  {
   "cell_type": "markdown",
   "metadata": {},
   "source": [
    "Get frequent triples"
   ]
  },
  {
   "cell_type": "code",
   "execution_count": 11,
   "metadata": {
    "collapsed": true
   },
   "outputs": [],
   "source": [
    "frequentTriples = sorted ([k for k,v in candidateTriples.iteritems() if v > support])"
   ]
  },
  {
   "cell_type": "markdown",
   "metadata": {},
   "source": [
    "Generating Rules for confidence"
   ]
  },
  {
   "cell_type": "code",
   "execution_count": 12,
   "metadata": {
    "collapsed": true
   },
   "outputs": [],
   "source": [
    "def confidence(I,J):\n",
    "    # Calculate P(IJ)\n",
    "    PIJ = 0\n",
    "    \n",
    "    IJ = set(I).union(set(J))\n",
    "    \n",
    "    if len(IJ) == 2:\n",
    "        PIJ = candidatePairs[tuple(sorted(IJ))]\n",
    "    elif len(IJ) == 3:\n",
    "        PIJ = candidateTriples[tuple(sorted(IJ))]\n",
    "    \n",
    "    #Calculate P(I)\n",
    "    PI = 0\n",
    "    if len(I) == 1:\n",
    "        PI = itemCounts[I[0]]\n",
    "    elif len(I) == 2:\n",
    "        PI = candidatePairs[tuple(sorted(I))]\n",
    "    if PIJ > PI:\n",
    "        print I, J, IJ\n",
    "        print PIJ, PI, PIJ / PI\n",
    "    \n",
    "    return PIJ / PI"
   ]
  },
  {
   "cell_type": "markdown",
   "metadata": {},
   "source": [
    "Frequent pairs by confidence"
   ]
  },
  {
   "cell_type": "code",
   "execution_count": 13,
   "metadata": {
    "collapsed": true
   },
   "outputs": [],
   "source": [
    "pairRules = {}\n",
    "for pair in frequentPairs:\n",
    "    pairRules[pair]=confidence( (pair[0],),(pair[1],) )\n",
    "    pairRules[(pair[1],pair[0])] = confidence( (pair[1],),(pair[0],) )"
   ]
  },
  {
   "cell_type": "markdown",
   "metadata": {},
   "source": [
    "Frequent triples by confidence"
   ]
  },
  {
   "cell_type": "code",
   "execution_count": 14,
   "metadata": {
    "collapsed": true
   },
   "outputs": [],
   "source": [
    "tripleRules = {}\n",
    "for triple in frequentTriples:\n",
    "    for pair in itertools.combinations(triple,2):\n",
    "        item2 = tuple(set(triple).difference(set(pair)))\n",
    "        tripleRules[(pair,item2)] = confidence(pair,item2)"
   ]
  },
  {
   "cell_type": "markdown",
   "metadata": {},
   "source": [
    "Final sort rules and get top 15 desc"
   ]
  },
  {
   "cell_type": "code",
   "execution_count": 15,
   "metadata": {
    "collapsed": false
   },
   "outputs": [
    {
     "name": "stdout",
     "output_type": "stream",
     "text": [
      "Top 15 pairs by confidence:\n",
      "DAI93865-->FRO40251  1.0\n",
      "GRO85051-->FRO40251  0.999176276771\n",
      "GRO38636-->FRO40251  0.990654205607\n",
      "ELE12951-->FRO40251  0.990566037736\n",
      "DAI88079-->FRO40251  0.986725663717\n",
      "FRO92469-->FRO40251  0.983510011779\n",
      "DAI43868-->SNA82528  0.972972972973\n",
      "DAI23334-->DAI62779  0.954545454545\n",
      "ELE92920-->DAI62779  0.732664995823\n",
      "DAI53152-->FRO40251  0.717948717949\n",
      "SNA18336-->DAI62779  0.713681241185\n",
      "ELE55848-->GRO32086  0.709459459459\n",
      "GRO89004-->ELE25077  0.698051948052\n",
      "GRO81647-->GRO73461  0.677551020408\n",
      "DAI37288-->ELE32164  0.646408839779\n"
     ]
    }
   ],
   "source": [
    "cp = sorted(pairRules.iteritems(), key = operator.itemgetter(1))\n",
    "cp.reverse()\n",
    "cp5 = [ \"%s-->%s  %s\" % (mappings[rule[0][0]],mappings[rule[0][1]],rule[1])\\\n",
    "                                   for rule in cp[0:15] ]\n",
    "print 'Top 15 pairs by confidence:'\n",
    "print \"\\n\".join(cp5)"
   ]
  },
  {
   "cell_type": "code",
   "execution_count": 16,
   "metadata": {
    "collapsed": false
   },
   "outputs": [
    {
     "name": "stdout",
     "output_type": "stream",
     "text": [
      "Top 15 triples by confidence:\n",
      "{ELE17451,GRO85051}-->FRO40251  1.0\n",
      "{FRO92469,ELE20847}-->FRO40251  1.0\n",
      "{ELE92920,DAI23334}-->DAI62779  1.0\n",
      "{GRO85051,SNA80324}-->FRO40251  1.0\n",
      "{GRO85051,GRO21487}-->FRO40251  1.0\n",
      "{GRO85051,FRO53271}-->FRO40251  1.0\n",
      "{DAI55911,GRO85051}-->FRO40251  1.0\n",
      "{GRO85051,DAI31081}-->FRO40251  1.0\n",
      "{SNA45677,GRO85051}-->FRO40251  1.0\n",
      "{GRO73461,GRO85051}-->FRO40251  1.0\n",
      "{GRO85051,DAI75645}-->FRO40251  1.0\n",
      "{ELE26917,GRO85051}-->FRO40251  1.0\n",
      "{GRO85051,ELE20847}-->FRO40251  1.0\n",
      "{GRO85051,GRO38814}-->FRO40251  1.0\n",
      "{DAI62779,DAI88079}-->FRO40251  1.0\n"
     ]
    }
   ],
   "source": [
    "ct = sorted(tripleRules.iteritems(), key = operator.itemgetter(1))\n",
    "ct.reverse()\n",
    "ct5 = [ \"{%s,%s}-->%s  %s\" % (mappings[rule[0][0][0]],   \\\n",
    "                              mappings[rule[0][0][1]], \\\n",
    "                              mappings[rule[0][1][0]], \\\n",
    "                              rule[1])\\\n",
    "                            for rule in ct[0:15] ]\n",
    "print 'Top 15 triples by confidence:'\n",
    "print \"\\n\".join(ct5)"
   ]
  },
  {
   "cell_type": "markdown",
   "metadata": {},
   "source": [
    "Generating Rules for lift"
   ]
  },
  {
   "cell_type": "code",
   "execution_count": 17,
   "metadata": {
    "collapsed": true
   },
   "outputs": [],
   "source": [
    "def lift(J,conf):\n",
    "    if isinstance(J, tuple):\n",
    "        suppJ = itemCounts[J[0]]\n",
    "    else:\n",
    "        suppJ = itemCounts[J]\n",
    "        \n",
    "    SJ = suppJ / transactions\n",
    "    return conf / SJ"
   ]
  },
  {
   "cell_type": "code",
   "execution_count": 18,
   "metadata": {
    "collapsed": false
   },
   "outputs": [
    {
     "name": "stdout",
     "output_type": "stream",
     "text": [
      "Top 15 pairs by lift:\n",
      "SNA44451-->DAI18527  67.6397014925\n",
      "DAI18527-->SNA44451  67.6397014925\n",
      "SNA82528-->DAI43868  50.9434889435\n",
      "DAI43868-->SNA82528  50.9434889435\n",
      "FRO17734-->ELE28189  50.1027877645\n",
      "ELE28189-->FRO17734  50.1027877645\n",
      "GRO30912-->ELE88583  47.4100609756\n",
      "ELE88583-->GRO30912  47.4100609756\n",
      "GRO89004-->ELE25077  45.4186477748\n",
      "ELE25077-->GRO89004  45.4186477748\n",
      "DAI94679-->DAI83031  44.607616955\n",
      "DAI83031-->DAI94679  44.607616955\n",
      "FRO81176-->DAI46755  38.4877963126\n",
      "DAI46755-->FRO81176  38.4877963126\n",
      "ELE88583-->SNA24799  35.7456808943\n"
     ]
    }
   ],
   "source": [
    "liftedPairRules = { k:lift(k[1],v) for k,v in pairRules.iteritems()}\n",
    "lp = sorted(liftedPairRules.iteritems(), key = operator.itemgetter(1))\n",
    "lp.reverse()\n",
    "lp5 = [ \"%s-->%s  %s\" % (mappings[rule[0][0]],mappings[rule[0][1]],rule[1])\\\n",
    "                                   for rule in lp[0:15] ]  \n",
    "print 'Top 15 pairs by lift:'\n",
    "print \"\\n\".join(lp5) "
   ]
  },
  {
   "cell_type": "code",
   "execution_count": 19,
   "metadata": {
    "collapsed": false
   },
   "outputs": [
    {
     "name": "stdout",
     "output_type": "stream",
     "text": [
      "Top 15 triples by lift:\n",
      "{SNA93860,FRO19221}-->SNA53220  40.4831468372\n",
      "{DAI62779,DAI92600}-->DAI42083  35.3443405416\n",
      "{ELE17451,DAI92600}-->DAI42083  34.1711460446\n",
      "{ELE92920,DAI85309}-->SNA18336  30.3351998821\n",
      "{DAI62779,DAI42083}-->DAI92600  29.8515014397\n",
      "{ELE17451,ELE92920}-->SNA18336  26.0454425247\n",
      "{GRO94758,SNA45677}-->ELE78169  22.4115535003\n",
      "{ELE17451,SNA18336}-->ELE92920  22.1872659176\n",
      "{SNA18336,DAI62779}-->ELE92920  22.1826503016\n",
      "{DAI62779,ELE92920}-->SNA18336  21.6078855825\n",
      "{SNA93860,FRO85978}-->ELE59028  21.4369685704\n",
      "{DAI62779,SNA53220}-->FRO19221  21.2527177315\n",
      "{ELE17451,DAI42083}-->DAI92600  21.0366642578\n",
      "{SNA18336,DAI85309}-->ELE92920  20.8760774769\n",
      "{DAI62779,ELE21353}-->FRO19221  20.117076326\n"
     ]
    }
   ],
   "source": [
    "liftedTripleRules = { k:lift(k[1],v) for k,v in tripleRules.iteritems()}\n",
    "lt = sorted(liftedTripleRules.iteritems(), key = operator.itemgetter(1))\n",
    "lt.reverse()\n",
    "\n",
    "lt5 = [ \"{%s,%s}-->%s  %s\" % (mappings[rule[0][0][0]],   \\\n",
    "                              mappings[rule[0][0][1]], \\\n",
    "                              mappings[rule[0][1][0]], \\\n",
    "                              rule[1])\\\n",
    "                            for rule in lt[0:15] ]\n",
    "print 'Top 15 triples by lift:'\n",
    "print \"\\n\".join(lt5)"
   ]
  },
  {
   "cell_type": "markdown",
   "metadata": {},
   "source": [
    "Generating Rules for conviction"
   ]
  },
  {
   "cell_type": "code",
   "execution_count": 20,
   "metadata": {
    "collapsed": true
   },
   "outputs": [],
   "source": [
    "def conv(J,conf):\n",
    "    if isinstance(J, tuple):\n",
    "        suppJ = itemCounts[J[0]]\n",
    "    else:\n",
    "        suppJ = itemCounts[J]\n",
    "        \n",
    "    SJ = suppJ / transactions\n",
    "    \n",
    "    conv = float('inf')\n",
    "    if not conf == 1: \n",
    "        conv = (1 - SJ)/(1 - conf)\n",
    "    \n",
    "    return conv"
   ]
  },
  {
   "cell_type": "code",
   "execution_count": 21,
   "metadata": {
    "collapsed": false
   },
   "outputs": [
    {
     "name": "stdout",
     "output_type": "stream",
     "text": [
      "Top 15 pairs by conviction:\n",
      "DAI93865-->FRO40251  inf\n",
      "GRO85051-->FRO40251  1062.50860101\n",
      "GRO38636-->FRO40251  93.6477926755\n",
      "ELE12951-->FRO40251  92.7725796598\n",
      "DAI88079-->FRO40251  65.9327138463\n",
      "FRO92469-->FRO40251  53.0754178782\n",
      "DAI43868-->SNA82528  36.2933346195\n",
      "DAI23334-->DAI62779  17.2839458538\n",
      "ELE55848-->GRO32086  3.34712934528\n",
      "GRO89004-->ELE25077  3.26092754339\n",
      "DAI53152-->FRO40251  3.10302796461\n",
      "ELE92920-->DAI62779  2.93876181634\n",
      "SNA18336-->DAI62779  2.74391348194\n",
      "GRO81647-->GRO73461  2.74208896372\n",
      "SNA18336-->ELE92920  2.68390691542\n"
     ]
    }
   ],
   "source": [
    "convictedPairRules = { k:conv(k[1],v) for k,v in pairRules.iteritems()}\n",
    "convp = sorted(convictedPairRules.iteritems(), key = operator.itemgetter(1))\n",
    "convp.reverse()\n",
    "convp5 = [ \"%s-->%s  %s\" % (mappings[rule[0][0]],mappings[rule[0][1]],rule[1])\\\n",
    "                                   for rule in convp[0:15] ]  \n",
    "print 'Top 15 pairs by conviction:'\n",
    "print \"\\n\".join(convp5)"
   ]
  },
  {
   "cell_type": "code",
   "execution_count": 22,
   "metadata": {
    "collapsed": false
   },
   "outputs": [
    {
     "name": "stdout",
     "output_type": "stream",
     "text": [
      "Top 15 triples by conviction:\n",
      "{GRO85051,SNA80324}-->FRO40251  inf\n",
      "{ELE17451,GRO85051}-->FRO40251  inf\n",
      "{FRO92469,ELE20847}-->FRO40251  inf\n",
      "{ELE92920,DAI23334}-->DAI62779  inf\n",
      "{GRO85051,FRO53271}-->FRO40251  inf\n",
      "{DAI55911,GRO85051}-->FRO40251  inf\n",
      "{GRO85051,DAI31081}-->FRO40251  inf\n",
      "{SNA45677,GRO85051}-->FRO40251  inf\n",
      "{GRO73461,GRO85051}-->FRO40251  inf\n",
      "{GRO85051,DAI75645}-->FRO40251  inf\n",
      "{ELE26917,GRO85051}-->FRO40251  inf\n",
      "{GRO85051,ELE20847}-->FRO40251  inf\n",
      "{GRO85051,GRO38814}-->FRO40251  inf\n",
      "{DAI62779,DAI88079}-->FRO40251  inf\n",
      "{GRO85051,GRO21487}-->FRO40251  inf\n"
     ]
    }
   ],
   "source": [
    "convictedTripleRules = { k:conv(k[1],v) for k,v in tripleRules.iteritems()}\n",
    "convt = sorted(convictedTripleRules.iteritems(), key = operator.itemgetter(1))\n",
    "convt.reverse()\n",
    "\n",
    "convt5 = [ \"{%s,%s}-->%s  %s\" % (mappings[rule[0][0][0]],   \\\n",
    "                              mappings[rule[0][0][1]], \\\n",
    "                              mappings[rule[0][1][0]], \\\n",
    "                              rule[1])\\\n",
    "                            for rule in convt[0:15] ]\n",
    "print 'Top 15 triples by conviction:'\n",
    "print \"\\n\".join(convt5)"
   ]
  },
  {
   "cell_type": "code",
   "execution_count": null,
   "metadata": {
    "collapsed": true
   },
   "outputs": [],
   "source": []
  }
 ],
 "metadata": {
  "kernelspec": {
   "display_name": "Python 2",
   "language": "python",
   "name": "python2"
  },
  "language_info": {
   "codemirror_mode": {
    "name": "ipython",
    "version": 2
   },
   "file_extension": ".py",
   "mimetype": "text/x-python",
   "name": "python",
   "nbconvert_exporter": "python",
   "pygments_lexer": "ipython2",
   "version": "2.7.10"
  }
 },
 "nbformat": 4,
 "nbformat_minor": 0
}
