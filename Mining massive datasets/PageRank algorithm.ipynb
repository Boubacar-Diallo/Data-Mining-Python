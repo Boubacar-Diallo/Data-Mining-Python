{
 "cells": [
  {
   "cell_type": "markdown",
   "metadata": {},
   "source": [
    "# PageRank algorithm\n",
    "Implement a scalable PageRank algorithm on the Google web graph dataset `Google.txt`. Use a random teleporting probability of 0.2. Each line in the file has two numbers separated by a space. This represents a directed edge in the graph. For example, \"0 824020\" is an edge from node 0 to node 824020. Calculate the PageRank value of node '99'."
   ]
  },
  {
   "cell_type": "code",
   "execution_count": 1,
   "metadata": {
    "collapsed": true
   },
   "outputs": [],
   "source": [
    "from scipy.sparse import coo_matrix\n",
    "import numpy as np"
   ]
  },
  {
   "cell_type": "code",
   "execution_count": 2,
   "metadata": {
    "collapsed": true
   },
   "outputs": [],
   "source": [
    "nodesID = {}\n",
    "n = 0\n",
    "line_count = 0"
   ]
  },
  {
   "cell_type": "code",
   "execution_count": 3,
   "metadata": {
    "collapsed": false
   },
   "outputs": [
    {
     "name": "stdout",
     "output_type": "stream",
     "text": [
      "875713\n",
      "875713\n"
     ]
    }
   ],
   "source": [
    "with open('Google.txt','r') as google:\n",
    "    for line in google:\n",
    "        line_count += 1\n",
    "        if line.startswith('#') : continue\n",
    "        tokens = line.strip().split('\\t')\n",
    "        #print tokens\n",
    "        if tokens[0] not in nodesID: \n",
    "            nodesID[tokens[0]] = n\n",
    "            n += 1\n",
    "        \n",
    "        if tokens[1] not in nodesID: \n",
    "            nodesID[tokens[1]] = n\n",
    "            n += 1\n",
    "            \n",
    "print len(nodesID)\n",
    "print n"
   ]
  },
  {
   "cell_type": "code",
   "execution_count": 4,
   "metadata": {
    "collapsed": true
   },
   "outputs": [],
   "source": [
    "col = []\n",
    "row = []\n",
    "value = []"
   ]
  },
  {
   "cell_type": "code",
   "execution_count": 5,
   "metadata": {
    "collapsed": false
   },
   "outputs": [],
   "source": [
    "line_count = 0\n",
    "with open('Google.txt','r') as google:\n",
    "    for line in google:\n",
    "        line_count += 1\n",
    "        if line.startswith('#') : continue\n",
    "        tokens = line.strip().split('\\t')\n",
    "        url1 = nodesID[tokens[0]]\n",
    "        url2 = nodesID[tokens[1]]\n",
    "\n",
    "        col.append(url1)\n",
    "        row.append(url2)\n",
    "        value.append(1.0)"
   ]
  },
  {
   "cell_type": "code",
   "execution_count": 6,
   "metadata": {
    "collapsed": false
   },
   "outputs": [
    {
     "name": "stdout",
     "output_type": "stream",
     "text": [
      "  (1, 0)\t1.0\n",
      "  (2, 0)\t1.0\n",
      "  (3, 0)\t1.0\n",
      "  (4, 0)\t1.0\n",
      "  (0, 1)\t1.0\n",
      "  (5, 1)\t1.0\n",
      "  (6, 1)\t1.0\n",
      "  (7, 1)\t1.0\n",
      "  (8, 1)\t1.0\n",
      "  (9, 1)\t1.0\n",
      "  (10, 1)\t1.0\n",
      "  (11, 1)\t1.0\n",
      "  (12, 1)\t1.0\n",
      "  (13, 1)\t1.0\n",
      "  (14, 1)\t1.0\n",
      "  (15, 1)\t1.0\n",
      "  (3, 1)\t1.0\n",
      "  (4, 1)\t1.0\n",
      "  (0, 2)\t1.0\n",
      "  (16, 2)\t1.0\n",
      "  (8, 2)\t1.0\n",
      "  (9, 2)\t1.0\n",
      "  (17, 2)\t1.0\n",
      "  (18, 2)\t1.0\n",
      "  (19, 2)\t1.0\n",
      "  :\t:\n",
      "  (233421, 875711)\t1.0\n",
      "  (233422, 875711)\t1.0\n",
      "  (233423, 875711)\t1.0\n",
      "  (233424, 875711)\t1.0\n",
      "  (233425, 875711)\t1.0\n",
      "  (233426, 875711)\t1.0\n",
      "  (233427, 875711)\t1.0\n",
      "  (233428, 875711)\t1.0\n",
      "  (233429, 875711)\t1.0\n",
      "  (233430, 875711)\t1.0\n",
      "  (233431, 875711)\t1.0\n",
      "  (233432, 875711)\t1.0\n",
      "  (233433, 875711)\t1.0\n",
      "  (542444, 875712)\t1.0\n",
      "  (13651, 875712)\t1.0\n",
      "  (542445, 875712)\t1.0\n",
      "  (13652, 875712)\t1.0\n",
      "  (542446, 875712)\t1.0\n",
      "  (542447, 875712)\t1.0\n",
      "  (542448, 875712)\t1.0\n",
      "  (542449, 875712)\t1.0\n",
      "  (542450, 875712)\t1.0\n",
      "  (13656, 875712)\t1.0\n",
      "  (9430, 875712)\t1.0\n",
      "  (542451, 875712)\t1.0\n",
      "(875713, 875713)\n"
     ]
    }
   ],
   "source": [
    "M = coo_matrix((value, (row,col)), shape=(n, n))\n",
    "print M\n",
    "print M.shape"
   ]
  },
  {
   "cell_type": "code",
   "execution_count": 7,
   "metadata": {
    "collapsed": false
   },
   "outputs": [
    {
     "name": "stdout",
     "output_type": "stream",
     "text": [
      "[[ 212.]\n",
      " [ 200.]\n",
      " [   4.]\n",
      " ..., \n",
      " [   0.]\n",
      " [   0.]\n",
      " [   0.]]\n"
     ]
    }
   ],
   "source": [
    "inLink = M.sum(1)\n",
    "print inLink"
   ]
  },
  {
   "cell_type": "code",
   "execution_count": 8,
   "metadata": {
    "collapsed": false
   },
   "outputs": [
    {
     "name": "stdout",
     "output_type": "stream",
     "text": [
      "[[  4.]\n",
      " [ 14.]\n",
      " [ 11.]\n",
      " ..., \n",
      " [  2.]\n",
      " [ 15.]\n",
      " [ 12.]]\n",
      "(875713, 1)\n"
     ]
    }
   ],
   "source": [
    "outLink = M.sum(0).T\n",
    "print outLink\n",
    "print outLink.shape"
   ]
  },
  {
   "cell_type": "code",
   "execution_count": 9,
   "metadata": {
    "collapsed": true
   },
   "outputs": [],
   "source": [
    "value = [1.0 / outLink[col[i], 0] for i, v in enumerate(value)]"
   ]
  },
  {
   "cell_type": "code",
   "execution_count": 10,
   "metadata": {
    "collapsed": false
   },
   "outputs": [
    {
     "name": "stdout",
     "output_type": "stream",
     "text": [
      "  (1, 0)\t0.25\n",
      "  (2, 0)\t0.25\n",
      "  (3, 0)\t0.25\n",
      "  (4, 0)\t0.25\n",
      "  (0, 1)\t0.0714285714286\n",
      "  (5, 1)\t0.0714285714286\n",
      "  (6, 1)\t0.0714285714286\n",
      "  (7, 1)\t0.0714285714286\n",
      "  (8, 1)\t0.0714285714286\n",
      "  (9, 1)\t0.0714285714286\n",
      "  (10, 1)\t0.0714285714286\n",
      "  (11, 1)\t0.0714285714286\n",
      "  (12, 1)\t0.0714285714286\n",
      "  (13, 1)\t0.0714285714286\n",
      "  (14, 1)\t0.0714285714286\n",
      "  (15, 1)\t0.0714285714286\n",
      "  (3, 1)\t0.0714285714286\n",
      "  (4, 1)\t0.0714285714286\n",
      "  (0, 2)\t0.0909090909091\n",
      "  (16, 2)\t0.0909090909091\n",
      "  (8, 2)\t0.0909090909091\n",
      "  (9, 2)\t0.0909090909091\n",
      "  (17, 2)\t0.0909090909091\n",
      "  (18, 2)\t0.0909090909091\n",
      "  (19, 2)\t0.0909090909091\n",
      "  :\t:\n",
      "  (233421, 875711)\t0.0666666666667\n",
      "  (233422, 875711)\t0.0666666666667\n",
      "  (233423, 875711)\t0.0666666666667\n",
      "  (233424, 875711)\t0.0666666666667\n",
      "  (233425, 875711)\t0.0666666666667\n",
      "  (233426, 875711)\t0.0666666666667\n",
      "  (233427, 875711)\t0.0666666666667\n",
      "  (233428, 875711)\t0.0666666666667\n",
      "  (233429, 875711)\t0.0666666666667\n",
      "  (233430, 875711)\t0.0666666666667\n",
      "  (233431, 875711)\t0.0666666666667\n",
      "  (233432, 875711)\t0.0666666666667\n",
      "  (233433, 875711)\t0.0666666666667\n",
      "  (542444, 875712)\t0.0833333333333\n",
      "  (13651, 875712)\t0.0833333333333\n",
      "  (542445, 875712)\t0.0833333333333\n",
      "  (13652, 875712)\t0.0833333333333\n",
      "  (542446, 875712)\t0.0833333333333\n",
      "  (542447, 875712)\t0.0833333333333\n",
      "  (542448, 875712)\t0.0833333333333\n",
      "  (542449, 875712)\t0.0833333333333\n",
      "  (542450, 875712)\t0.0833333333333\n",
      "  (13656, 875712)\t0.0833333333333\n",
      "  (9430, 875712)\t0.0833333333333\n",
      "  (542451, 875712)\t0.0833333333333\n",
      "(875713, 875713)\n"
     ]
    }
   ],
   "source": [
    "M = coo_matrix((value, (row,col)), shape=(n, n))\n",
    "print M\n",
    "print M.shape"
   ]
  },
  {
   "cell_type": "code",
   "execution_count": 11,
   "metadata": {
    "collapsed": false
   },
   "outputs": [
    {
     "name": "stdout",
     "output_type": "stream",
     "text": [
      "1.0\n"
     ]
    }
   ],
   "source": [
    "beta= 0.8\n",
    "epsilon = 1./(10**11)\n",
    "r = np.ones([n,1])\n",
    "r = r/n\n",
    "print np.sum(r) "
   ]
  },
  {
   "cell_type": "code",
   "execution_count": 12,
   "metadata": {
    "collapsed": false
   },
   "outputs": [
    {
     "name": "stdout",
     "output_type": "stream",
     "text": [
      "95 iterations\n",
      "Pagerank(\"99\"): [  3.72200116e-07]\n"
     ]
    }
   ],
   "source": [
    "for _ in xrange(250):\n",
    "    old_r = r\n",
    "    r  = beta * M * r\n",
    "    for j in xrange(n):\n",
    "        if inLink[j,0] == 0 :\n",
    "            r[j] = 0\n",
    "    \n",
    "    S = r.sum()\n",
    "    r = r +  (1 - S)/n\n",
    "    \n",
    "    if np.sum(np.abs(old_r - r)) < epsilon:\n",
    "        print \"{} iterations\".format(_)\n",
    "        old_r = r\n",
    "        break\n",
    "    else:\n",
    "        old_r = r\n",
    "\n",
    "print 'Pagerank(\"99\"):', r[nodesID['99']]"
   ]
  },
  {
   "cell_type": "code",
   "execution_count": null,
   "metadata": {
    "collapsed": true
   },
   "outputs": [],
   "source": [
    "  "
   ]
  }
 ],
 "metadata": {
  "kernelspec": {
   "display_name": "Python 2",
   "language": "python",
   "name": "python2"
  },
  "language_info": {
   "codemirror_mode": {
    "name": "ipython",
    "version": 2
   },
   "file_extension": ".py",
   "mimetype": "text/x-python",
   "name": "python",
   "nbconvert_exporter": "python",
   "pygments_lexer": "ipython2",
   "version": "2.7.9"
  }
 },
 "nbformat": 4,
 "nbformat_minor": 0
}
