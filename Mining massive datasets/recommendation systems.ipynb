{
 "cells": [
  {
   "cell_type": "markdown",
   "metadata": {},
   "source": [
    "## Recommendation Systems\n",
    "In this question you will apply these methods to a real dataset. The data contains information about TV shows. More precisely, for 9985 users and 563 popular TV shows, we know if a given user watched a given show over a 3 month period.\n",
    "\n",
    "The data sets are:\n",
    "\n",
    "- `user-shows.txt`: This is the ratings matrix $R$, where each row corresponds to a user and each column corresponds to a TV show. $R_ij$ = 1 if user $i$ watched the show $j$ over a period of three months. The columns are separated by a space.\n",
    "- `shows.txt`: This is a file containing the titles of the TV shows, in the same order as the columns of $R$.\n",
    "\n",
    "\n",
    "We will compare the user-user and item-item collaborative filtering recommendations for the 500th user of the dataset. Let’s call him Alex. In order to do so, we have erased the first 100 entries of Alex’s row in the matrix, and replaced them by 0s. This means that we don’t know which of the first 100 shows Alex has watched or not. Based on Alex’s behaviour on the other shows, we will give Alex recommendations on the first 100 shows. We will then see if our recommendations match what Alex had in fact watched.\n",
    "\n",
    "- Compute the matrices $P$ and $Q$.\n",
    "- Compute $\\Gamma$ for the user-user collaborative filtering. Let $S$ denote the set of the first 100 shows (the first 100 columns of the matrix). From all the TV shows in $S$, which are the five that have the highest similarity scores for Alex? What are their similarity score? In case of ties between two shows, choose the one with smaller index. Do not write the index of the TV shows, write their names using the file `shows.txt`.\n",
    "- Compute the matrix $\\Gamma$ for the movie-movie collaborative filtering. From all the TV shows in $S$, which are the five that have the highest similarity scores for Alex? In case of ties between two shows, choose the one with smaller index. Again, hand in the names of the shows and their similarity score.\n",
    "\n",
    "Alex’s original row is given in the file `alex.txt`. For a given number $k$, the precision at top-$k$ is defined as follows: using the matrix $\\Gamma$ computed previously, compute the top-$k$ TV shows in $S$ that are most similar to Alex (break ties as before). The precision is the fraction of the top-$k$ TV shows that were watched by Alex in reality.\n",
    "\n",
    "- Plot the precision at top-$k$ (defined above) as a function of $k$, for $k$ $\\in$ [1, 19], with predictions obtained by the user-user collaborative filtering.\n",
    "• On the same figure, plot the precision at top-$k$ as a function of $k$, for $k$ $\\in$ [1, 19], with predictions obtained by the item-item collaborative filtering."
   ]
  },
  {
   "cell_type": "code",
   "execution_count": 8,
   "metadata": {
    "collapsed": true
   },
   "outputs": [],
   "source": [
    "%matplotlib inline\n",
    "import numpy as np\n",
    "from scipy import spatial\n",
    "import pickle"
   ]
  },
  {
   "cell_type": "markdown",
   "metadata": {},
   "source": [
    "Load the ratings matrix R"
   ]
  },
  {
   "cell_type": "code",
   "execution_count": 2,
   "metadata": {
    "collapsed": true
   },
   "outputs": [],
   "source": [
    "def loadRatings():\n",
    "    ratings = []\n",
    "    with open('user-shows.txt', 'r') as f:\n",
    "        for line in f:\n",
    "            line = map(int, line.strip().split())\n",
    "            ratings.append(line)\n",
    "    return ratings"
   ]
  },
  {
   "cell_type": "markdown",
   "metadata": {},
   "source": [
    "Compute the matrices P"
   ]
  },
  {
   "cell_type": "code",
   "execution_count": 3,
   "metadata": {
    "collapsed": true
   },
   "outputs": [],
   "source": [
    "def calcP(R):\n",
    "    m, _ = R.shape\n",
    "    P = np.zeros([m, m])\n",
    "    for i in range(m):\n",
    "        P[i, i] = np.sum(R[i])\n",
    "    return P"
   ]
  },
  {
   "cell_type": "markdown",
   "metadata": {},
   "source": [
    "Compute the matrices Q"
   ]
  },
  {
   "cell_type": "code",
   "execution_count": 4,
   "metadata": {
    "collapsed": true
   },
   "outputs": [],
   "source": [
    "def calcQ(R):\n",
    "    _, n = R.shape\n",
    "    Q = np.zeros([n, n])\n",
    "    for i in range(n):\n",
    "        Q[i, i] = np.sum(R[:, i])\n",
    "    return Q"
   ]
  },
  {
   "cell_type": "markdown",
   "metadata": {},
   "source": [
    "Load Alex"
   ]
  },
  {
   "cell_type": "code",
   "execution_count": 5,
   "metadata": {
    "collapsed": true
   },
   "outputs": [],
   "source": [
    "def loadAlex():\n",
    "    with open('alex.txt', 'r') as f:\n",
    "        alex = map(int, f.readline().strip().split())\n",
    "    return np.array(alex)"
   ]
  },
  {
   "cell_type": "code",
   "execution_count": 6,
   "metadata": {
    "collapsed": true
   },
   "outputs": [],
   "source": [
    "def recommend():\n",
    "    print \"load ratings\"\n",
    "    R = np.matrix(loadRatings())\n",
    "    m, n = R.shape\n",
    "    print \"calc P\"\n",
    "    P = calcP(R)\n",
    "    print \"calc Q\"\n",
    "    Q = calcQ(R)\n",
    "\n",
    "    Ps = P\n",
    "    for i in range(m):\n",
    "        Ps[i, i] = np.sqrt(1.0 / P[i, i])\n",
    "    Qs = Q\n",
    "    for i in range(n):\n",
    "        Qs[i, i] = np.sqrt(1.0 / Q[i, i])\n",
    "\n",
    "    print \"Compute gamma for the user-user collaborative filtering\"\n",
    "    Guu = Ps * R * R.T * Ps * R\n",
    "    print np.array(Guu[499, :100]).flatten().argsort()[::-1]\n",
    "\n",
    "    print \"Compute gamma for the item-item collaborative filtering\"\n",
    "    Gii = R * Qs * R.T * R * Qs\n",
    "    print np.array(Gii[499, :100]).flatten().argsort()[::-1]"
   ]
  },
  {
   "cell_type": "code",
   "execution_count": 7,
   "metadata": {
    "collapsed": true
   },
   "outputs": [],
   "source": [
    "def plot(uu, ii, alex):\n",
    "    uuplot = []\n",
    "    for i in range(19):\n",
    "        cnt = 0\n",
    "        for s in uu[:(i+1)]:\n",
    "            if alex[s] == 1:\n",
    "                cnt += 1\n",
    "        uuplot.append(float(cnt) / (i + 1))\n",
    "    print uuplot\n",
    "    iiplot = []\n",
    "    for i in range(19):\n",
    "        cnt = 0\n",
    "        for s in ii[:(i+1)]:\n",
    "            if alex[s] == 1:\n",
    "                cnt += 1\n",
    "        iiplot.append(float(cnt) / (i + 1))\n",
    "    print iiplot\n",
    "\n",
    "    import matplotlib.pyplot as plt\n",
    "    plt.plot(range(1, 20), uuplot, 'bs-', range(1, 20), iiplot, 'r^-')\n",
    "    plt.xlabel('K')\n",
    "    plt.ylabel('Precision')\n",
    "    plt.grid(True)\n",
    "    plt.legend(('User-user', 'Item-item'))"
   ]
  },
  {
   "cell_type": "code",
   "execution_count": 9,
   "metadata": {
    "collapsed": false
   },
   "outputs": [
    {
     "name": "stdout",
     "output_type": "stream",
     "text": [
      "[1.0, 0.5, 0.6666666666666666, 0.5, 0.4, 0.5, 0.42857142857142855, 0.375, 0.4444444444444444, 0.4, 0.36363636363636365, 0.3333333333333333, 0.38461538461538464, 0.42857142857142855, 0.4, 0.375, 0.35294117647058826, 0.3888888888888889, 0.3684210526315789]\n",
      "[1.0, 0.5, 0.3333333333333333, 0.5, 0.4, 0.3333333333333333, 0.42857142857142855, 0.375, 0.4444444444444444, 0.5, 0.45454545454545453, 0.4166666666666667, 0.38461538461538464, 0.42857142857142855, 0.4, 0.375, 0.35294117647058826, 0.3333333333333333, 0.3684210526315789]\n"
     ]
    },
    {
     "data": {
      "image/png": "[encoded data removed]",
      "text/plain": [
       "<matplotlib.figure.Figure at 0x10693d650>"
      ]
     },
     "metadata": {},
     "output_type": "display_data"
    }
   ],
   "source": [
    "if __name__ == '__main__':\n",
    "    # recommend()\n",
    "    uu = map(int, '96 74 45 60  9 68 82  5 72 62 64 59 20 90 97 35 46 76 65 25'.split())\n",
    "    ii = map(int, '96 74 60 45 82  9 68  5 72 20 62 59 64 90 97 35 25 65 76  2'.split())\n",
    "    alex = loadAlex()\n",
    "    plot(uu, ii, alex)"
   ]
  },
  {
   "cell_type": "code",
   "execution_count": null,
   "metadata": {
    "collapsed": true
   },
   "outputs": [],
   "source": []
  }
 ],
 "metadata": {
  "kernelspec": {
   "display_name": "Python 2",
   "language": "python",
   "name": "python2"
  },
  "language_info": {
   "codemirror_mode": {
    "name": "ipython",
    "version": 2
   },
   "file_extension": ".py",
   "mimetype": "text/x-python",
   "name": "python",
   "nbconvert_exporter": "python",
   "pygments_lexer": "ipython2",
   "version": "2.7.10"
  }
 },
 "nbformat": 4,
 "nbformat_minor": 0
}
