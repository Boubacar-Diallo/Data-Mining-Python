{
 "cells": [
  {
   "cell_type": "markdown",
   "metadata": {},
   "source": [
    "## Generalized BALANCE algorithm"
   ]
  },
  {
   "cell_type": "code",
   "execution_count": 1,
   "metadata": {
    "collapsed": true
   },
   "outputs": [],
   "source": [
    "from math import e"
   ]
  },
  {
   "cell_type": "markdown",
   "metadata": {},
   "source": [
    "Calculate psi\n",
    "\n",
    "- x: A has bid x for this query\n",
    "- f: Fraction f of the budget of A is currently unspent"
   ]
  },
  {
   "cell_type": "code",
   "execution_count": 2,
   "metadata": {
    "collapsed": true
   },
   "outputs": [],
   "source": [
    "psi = lambda x, f: x * (1 - e ** (-f))\n",
    "\n",
    "xs = [1, 2, 3]\n",
    "fs = [0.9, 0.5, 0.6]"
   ]
  },
  {
   "cell_type": "code",
   "execution_count": 3,
   "metadata": {
    "collapsed": false
   },
   "outputs": [
    {
     "name": "stdout",
     "output_type": "stream",
     "text": [
      "If a query arrives that is bidded on by A and B\n",
      "0.593430340259\n",
      "0.786938680575\n",
      "If a query arrives that is bidded on by A and C\n",
      "0.593430340259\n",
      "1.35356509172\n",
      "If a query arrives that is bidded on by A and B and C\n",
      "0.593430340259\n",
      "0.786938680575\n",
      "1.35356509172\n"
     ]
    }
   ],
   "source": [
    "print \"If a query arrives that is bidded on by A and B\"\n",
    "for i in [0, 1]:\n",
    "    print psi(xs[i], fs[i])\n",
    "\n",
    "print \"If a query arrives that is bidded on by A and C\"\n",
    "for i in [0, 2]:\n",
    "    print psi(xs[i], fs[i])\n",
    "\n",
    "print \"If a query arrives that is bidded on by A and B and C\"\n",
    "for i in [0, 1, 2]:\n",
    "    print psi(xs[i], fs[i])"
   ]
  },
  {
   "cell_type": "markdown",
   "metadata": {},
   "source": [
    "## Bloom Filter"
   ]
  },
  {
   "cell_type": "code",
   "execution_count": 4,
   "metadata": {
    "collapsed": true
   },
   "outputs": [],
   "source": [
    "import math"
   ]
  },
  {
   "cell_type": "markdown",
   "metadata": {},
   "source": [
    "Flagolet-Martin algorithm"
   ]
  },
  {
   "cell_type": "code",
   "execution_count": 5,
   "metadata": {
    "collapsed": true
   },
   "outputs": [],
   "source": [
    "# return 3x + 7\n",
    "def hash(x):\n",
    "    return (3 * x + 7) % 11"
   ]
  },
  {
   "cell_type": "code",
   "execution_count": 6,
   "metadata": {
    "collapsed": false
   },
   "outputs": [
    {
     "name": "stdout",
     "output_type": "stream",
     "text": [
      "1010\n",
      "10\n",
      "101\n",
      "1000\n",
      "0\n",
      "11\n",
      "110\n",
      "1001\n",
      "1\n",
      "100\n"
     ]
    }
   ],
   "source": [
    "for i in range(1, 11):\n",
    "    print bin(hash(i))[2:]"
   ]
  },
  {
   "cell_type": "code",
   "execution_count": 7,
   "metadata": {
    "collapsed": false
   },
   "outputs": [
    {
     "name": "stdout",
     "output_type": "stream",
     "text": [
      "0.203570939724\n"
     ]
    }
   ],
   "source": [
    "# asymptotic\n",
    "fp = lambda k, m, n: (1.0 - math.e ** (-1.0 * k * m / n)) ** k\n",
    "print fp(2, 3, 10)"
   ]
  },
  {
   "cell_type": "code",
   "execution_count": 8,
   "metadata": {
    "collapsed": false
   },
   "outputs": [
    {
     "name": "stdout",
     "output_type": "stream",
     "text": [
      "0.219547536481\n"
     ]
    }
   ],
   "source": [
    "# tiny bloom filter\n",
    "fp = lambda k, m, n: (1.0 - (1.0 - (1.0 / n)) ** (k * m)) ** k\n",
    "print fp(2, 3, 10)"
   ]
  },
  {
   "cell_type": "markdown",
   "metadata": {},
   "source": [
    "## Flajolet-Martin"
   ]
  },
  {
   "cell_type": "code",
   "execution_count": 9,
   "metadata": {
    "collapsed": true
   },
   "outputs": [],
   "source": [
    "# Decimal number to binary number\n",
    "def dec2bin(dec):\n",
    "    return bin(dec)[2:]"
   ]
  },
  {
   "cell_type": "code",
   "execution_count": 10,
   "metadata": {
    "collapsed": true
   },
   "outputs": [],
   "source": [
    "# Count the number of trailing zeros\n",
    "def counttrailingzero(b):\n",
    "    cnt = 0\n",
    "    for i in range(len(b))[::-1]:\n",
    "        if b[i] == '0':\n",
    "            cnt += 1\n",
    "        else:\n",
    "            return cnt\n",
    "    return cnt"
   ]
  },
  {
   "cell_type": "code",
   "execution_count": 11,
   "metadata": {
    "collapsed": true
   },
   "outputs": [],
   "source": [
    "# Given R = max r(a), estimate number of distinct elements\n",
    "def distinctelements(r):\n",
    "    return 2 ** r"
   ]
  },
  {
   "cell_type": "code",
   "execution_count": 12,
   "metadata": {
    "collapsed": false
   },
   "outputs": [
    {
     "name": "stdout",
     "output_type": "stream",
     "text": [
      "1\n",
      "2\n",
      "2\n",
      "4\n",
      "0\n"
     ]
    }
   ],
   "source": [
    "print counttrailingzero(dec2bin(10))\n",
    "print counttrailingzero(dec2bin(12))\n",
    "print counttrailingzero(dec2bin(4))\n",
    "print counttrailingzero(dec2bin(16))\n",
    "print counttrailingzero(dec2bin(1))"
   ]
  },
  {
   "cell_type": "markdown",
   "metadata": {},
   "source": [
    "## Hits algorithm"
   ]
  },
  {
   "cell_type": "code",
   "execution_count": 13,
   "metadata": {
    "collapsed": true
   },
   "outputs": [],
   "source": [
    "import numpy as np\n",
    "from copy import deepcopy"
   ]
  },
  {
   "cell_type": "markdown",
   "metadata": {},
   "source": [
    "Generate adjacency list from nodes and edges\n",
    "```\n",
    ">>> nodes = ['yahoo', 'amazon', 'microsoft']\n",
    ">>> edges = [('yahoo', 'yahoo'), ('yahoo', 'microsoft'), ('yahoo', 'amazon'), ('amazon', 'microsoft'), ('amazon', 'yahoo'), ('microsoft', 'amazon')]\n",
    ">>> getAdjList(nodes, edges)\n",
    "{0: [0, 2, 1], 1: [2, 0], 2: [1]}\n",
    "```"
   ]
  },
  {
   "cell_type": "code",
   "execution_count": 14,
   "metadata": {
    "collapsed": true
   },
   "outputs": [],
   "source": [
    "def getAdjList(nodes, edges):\n",
    "    nodeMap = {nodes[i] : i for i in range(len(nodes))}\n",
    "    adjList = {i : [] for i in range(len(nodes))}\n",
    "    for u, v in edges:\n",
    "        adjList[nodeMap[u]].append(nodeMap[v])\n",
    "    return adjList"
   ]
  },
  {
   "cell_type": "markdown",
   "metadata": {},
   "source": [
    "Genereate A from adjacency list\n",
    "```\n",
    ">>> adjList = {0: [0, 2, 1], 1: [2, 0], 2: [1]}\n",
    ">>> A = getA(adjList)\n",
    "```"
   ]
  },
  {
   "cell_type": "code",
   "execution_count": 15,
   "metadata": {
    "collapsed": true
   },
   "outputs": [],
   "source": [
    "def getA(adjList):\n",
    "    N = len(adjList)\n",
    "    A = np.zeros([N, N])\n",
    "    for u in adjList:\n",
    "        vs = adjList[u]\n",
    "        for v in vs:\n",
    "            A[u, v] = 1\n",
    "    return A"
   ]
  },
  {
   "cell_type": "markdown",
   "metadata": {},
   "source": [
    "Hits algorithm\n",
    "```\n",
    ">>> adjList = {0: [0, 2, 1], 1: [2, 0], 2: [1]}\n",
    ">>> A = getA(adjList)\n",
    ">>> hits(A)\n",
    "(array([ 0.78875329,  0.57713655,  0.21161674]), array([ 0.62790075,  0.45987097,  0.62790075]))\n",
    "```"
   ]
  },
  {
   "cell_type": "code",
   "execution_count": 16,
   "metadata": {
    "collapsed": true
   },
   "outputs": [],
   "source": [
    "def hits(A, epsilon=10**-6, numiter=1000):\n",
    "    # initialize\n",
    "    AT = A.T\n",
    "    N = len(A)\n",
    "    aold = np.ones(N) * 1.0 / np.sqrt(N)\n",
    "    hold = np.ones(N) * 1.0 / np.sqrt(N)\n",
    "    for i in range(numiter):\n",
    "        hnew = A.dot(aold)\n",
    "        anew = AT.dot(hnew)\n",
    "        hnew *= np.sqrt(1.0 / sum([v * v for v in hnew]))\n",
    "        anew *= np.sqrt(1.0 / sum([v * v for v in anew]))\n",
    "        if np.sum([v * v for v in anew - aold]) < epsilon or \\\n",
    "                np.sum([v * v for v in hnew - hold]) < epsilon:\n",
    "            break\n",
    "        hold = hnew\n",
    "        aold = anew\n",
    "    return hnew, anew"
   ]
  },
  {
   "cell_type": "code",
   "execution_count": 17,
   "metadata": {
    "collapsed": true
   },
   "outputs": [],
   "source": [
    "def main():\n",
    "    adjList = {0: [0, 2, 1], 1: [2, 0], 2: [1]}\n",
    "    A = getA(adjList)\n",
    "    print hits(A)"
   ]
  },
  {
   "cell_type": "code",
   "execution_count": 18,
   "metadata": {
    "collapsed": false
   },
   "outputs": [
    {
     "name": "stdout",
     "output_type": "stream",
     "text": [
      "(array([ 0.78875329,  0.57713655,  0.21161674]), array([ 0.62790075,  0.45987097,  0.62790075]))\n"
     ]
    }
   ],
   "source": [
    "if __name__ == '__main__':\n",
    "    main()\n",
    "    import doctest\n",
    "    doctest.testmod()"
   ]
  },
  {
   "cell_type": "markdown",
   "metadata": {},
   "source": [
    "## LSH Plot"
   ]
  },
  {
   "cell_type": "code",
   "execution_count": 19,
   "metadata": {
    "collapsed": true
   },
   "outputs": [],
   "source": [
    "%matplotlib inline\n",
    "import numpy as np\n",
    "import matplotlib.pyplot as plt"
   ]
  },
  {
   "cell_type": "markdown",
   "metadata": {},
   "source": [
    "Helper functions"
   ]
  },
  {
   "cell_type": "code",
   "execution_count": 20,
   "metadata": {
    "collapsed": true
   },
   "outputs": [],
   "source": [
    "andor = lambda x, r, b: 1 - (1 - x ** r) ** b\n",
    "orand = lambda x, r, b: (1 - (1 - x) ** b) ** r\n",
    "cascade = lambda x, r, b: orand(andor(x, r, b), r, b)"
   ]
  },
  {
   "cell_type": "code",
   "execution_count": 21,
   "metadata": {
    "collapsed": false
   },
   "outputs": [
    {
     "name": "stdout",
     "output_type": "stream",
     "text": [
      "0.031618043904\n"
     ]
    }
   ],
   "source": [
    "print andor(0.2, 3, 4)"
   ]
  },
  {
   "cell_type": "code",
   "execution_count": 27,
   "metadata": {
    "collapsed": true
   },
   "outputs": [],
   "source": [
    "def plot():\n",
    "    # Variable Initialization\n",
    "    k = 2 \n",
    "    r = k ** 2\n",
    "    b = k ** 2\n",
    "\n",
    "    # AND-OR Construction\n",
    "    x1 = np.arange(0, 1, 0.01)\n",
    "    y1 =  andor(x1, r, b)\n",
    "\n",
    "    # OR-AND Construction\n",
    "    x2 = np.arange(0, 1, 0.01)\n",
    "    y2 = orand(x2, r, b)\n",
    "\n",
    "    # Cascade Construction\n",
    "    x3 = np.arange(0, 1, 0.01)\n",
    "    y3 = cascade(x3, k, k)\n",
    "\n",
    "    # Show plot\n",
    "    plt.plot(x1, y1, '-r', x2, y2, '-g', x3, y3, '-b')\n",
    "    plt.grid(True)\n",
    "    plt.legend(('and-or', 'or-and', 'cascade'))\n",
    "    #plt.savefig('lsh.pdf')"
   ]
  },
  {
   "cell_type": "code",
   "execution_count": 28,
   "metadata": {
    "collapsed": false
   },
   "outputs": [
    {
     "data": {
      "image/png": "[encoded data removed]",
      "text/plain": [
       "<matplotlib.figure.Figure at 0x106669c50>"
      ]
     },
     "metadata": {},
     "output_type": "display_data"
    }
   ],
   "source": [
    "plot()"
   ]
  },
  {
   "cell_type": "markdown",
   "metadata": {},
   "source": [
    "## Min-hashing algorithm"
   ]
  },
  {
   "cell_type": "code",
   "execution_count": 29,
   "metadata": {
    "collapsed": true
   },
   "outputs": [],
   "source": [
    "import numpy as np"
   ]
  },
  {
   "cell_type": "code",
   "execution_count": 30,
   "metadata": {
    "collapsed": true
   },
   "outputs": [],
   "source": [
    "class MinHashing:\n",
    "    def __init__(self, mat, hashfunc):\n",
    "        self.matrix = mat\n",
    "        self.m = len(mat)\n",
    "        self.n = len(mat[0])\n",
    "        self.hashfunc = hashfunc\n",
    "        self.k = len(self.hashfunc)\n",
    "    def minhash(self):\n",
    "        self.sig = np.ones((self.k, self.n)) * 2 ** 10\n",
    "        for j in range(self.m):\n",
    "            for c in range(self.n):\n",
    "                if self.matrix[j][c] == 1:\n",
    "                    for i in range(self.k):\n",
    "                        if self.hashfunc[i](j) < self.sig[i][c]:\n",
    "                            self.sig[i][c] = self.hashfunc[i](j)\n",
    "    def show(self):\n",
    "        print self.sig"
   ]
  },
  {
   "cell_type": "code",
   "execution_count": 31,
   "metadata": {
    "collapsed": false
   },
   "outputs": [
    {
     "name": "stdout",
     "output_type": "stream",
     "text": [
      "[[ 0.  0.]\n",
      " [ 0.  1.]]\n",
      "[[ 2.  2.  1.]\n",
      " [ 1.  1.  1.]\n",
      " [ 2.  1.  1.]\n",
      " [ 1.  2.  3.]\n",
      " [ 3.  1.  2.]]\n"
     ]
    }
   ],
   "source": [
    "if __name__ == '__main__':\n",
    "    hashfunc = [lambda x: (3 * x + 2) % 7, lambda x: (x - 1) % 7]\n",
    "    mat = [[0,1],[1,0],[0,1],[0,0],[1,1],[1,1],[1,0]]\n",
    "    mh = MinHashing(mat, hashfunc)\n",
    "    mh.minhash()\n",
    "    mh.show()\n",
    "\n",
    "    # 2009 final\n",
    "    mat = [[0,0,1],[1,1,1],[0,1,1],[1,0,0],[0,1,0]]\n",
    "    hashfunc = [lambda x: x + 1, lambda x: (x - 1) % 5 + 1, lambda x: (x - 2) % 5 + 1, lambda x : (x - 3) % 5 + 1, lambda x: (x - 4) % 5 + 1]\n",
    "    mh = MinHashing(mat, hashfunc)\n",
    "    mh.minhash()\n",
    "    mh.show()"
   ]
  },
  {
   "cell_type": "markdown",
   "metadata": {},
   "source": [
    "## PageRank algorithm"
   ]
  },
  {
   "cell_type": "code",
   "execution_count": 32,
   "metadata": {
    "collapsed": true
   },
   "outputs": [],
   "source": [
    "import numpy as np\n",
    "from copy import deepcopy"
   ]
  },
  {
   "cell_type": "markdown",
   "metadata": {},
   "source": [
    "Generate adjacency list from nodes and edges"
   ]
  },
  {
   "cell_type": "code",
   "execution_count": 33,
   "metadata": {
    "collapsed": true
   },
   "outputs": [],
   "source": [
    "def getAdjList(nodes, edges):\n",
    "    nodeMap = {nodes[i] : i for i in range(len(nodes))}\n",
    "    adjList = {i : [] for i in range(len(nodes))}\n",
    "    for u, v in edges:\n",
    "        adjList[nodeMap[u]].append(nodeMap[v])\n",
    "    return adjList"
   ]
  },
  {
   "cell_type": "markdown",
   "metadata": {},
   "source": [
    "Generate M from adjacency list"
   ]
  },
  {
   "cell_type": "code",
   "execution_count": 34,
   "metadata": {
    "collapsed": true
   },
   "outputs": [],
   "source": [
    "def getM(adjList):\n",
    "    size = len(adjList)\n",
    "    M = np.zeros([size, size])\n",
    "    for u in adjList:\n",
    "        vs = adjList[u]\n",
    "        n = len(vs)\n",
    "        for v in vs:\n",
    "            M[v, u] = 1.0 / n\n",
    "    return M"
   ]
  },
  {
   "cell_type": "markdown",
   "metadata": {},
   "source": [
    "PageRank\n",
    "```\n",
    "nodes = ['y', 'a', 'm']\n",
    "edges = [('y', 'y'), ('a', 'm'), ('m', 'm'), ('a', 'y'), ('y', 'a')]\n",
    "adjList = getAdjList(nodes, edges)\n",
    "M = getM(adjList)\n",
    "print pageRank(M, 0.8)\n",
    "```"
   ]
  },
  {
   "cell_type": "code",
   "execution_count": 35,
   "metadata": {
    "collapsed": true
   },
   "outputs": [],
   "source": [
    "def pageRank(M, beta=0.8, epsilon=10**-6, numiter=1000):\n",
    "    N = len(M)\n",
    "    const = np.ones(N) * (1 - beta) / N\n",
    "    rold = np.ones(N) * 1.0 / N\n",
    "    rnew = np.zeros(N)\n",
    "    for i in range(numiter):\n",
    "        rnew = beta * M.dot(rold)\n",
    "        rnew += const\n",
    "        if np.sum(np.abs(rold - rnew)) < epsilon:\n",
    "            break\n",
    "        rold = rnew\n",
    "    return rnew"
   ]
  },
  {
   "cell_type": "markdown",
   "metadata": {},
   "source": [
    "Topic-specific pagerank\n",
    "```\n",
    ">>> nodes = [1, 2, 3, 4]\n",
    ">>> edges = [(1, 2), (1, 3), (3, 4), (4, 3), (2, 1)]\n",
    ">>> adjList = getAdjList(nodes, edges)\n",
    ">>> M = getM(adjList)\n",
    ">>> print topicSpecific(M, {0: 1}, 0.8)\n",
    ">>> print topicSpecific(M, {0: 1}, 0.9)\n",
    ">>> print topicSpecific(M, {0: 1}, 0.7)\n",
    "```"
   ]
  },
  {
   "cell_type": "code",
   "execution_count": 36,
   "metadata": {
    "collapsed": true
   },
   "outputs": [],
   "source": [
    "def topicSpecific(M, S, beta=0.8, epsilon=10**-6, numiter=1000):\n",
    "    N = len(M)\n",
    "    rold = np.ones(N) * 1.0 / N\n",
    "    const = np.zeros(N)\n",
    "    for i in S:\n",
    "        const[i] = (1 - beta) * S[i]\n",
    "    for i in range(numiter):\n",
    "        rnew = M.dot(rold) * beta\n",
    "        rnew += const\n",
    "        if np.sum(np.abs(rold - rnew)) < epsilon:\n",
    "            break\n",
    "        rold = rnew\n",
    "    return rnew"
   ]
  },
  {
   "cell_type": "code",
   "execution_count": 37,
   "metadata": {
    "collapsed": true
   },
   "outputs": [],
   "source": [
    "def main():\n",
    "    nodes = ['y', 'a', 'm']\n",
    "    edges = [('y', 'y'), ('a', 'm'), ('m', 'm'), ('a', 'y'), ('y', 'a')]\n",
    "    adjList = getAdjList(nodes, edges)\n",
    "    M = getM(adjList)\n",
    "    print pageRank(M, 0.8)"
   ]
  },
  {
   "cell_type": "code",
   "execution_count": 38,
   "metadata": {
    "collapsed": true
   },
   "outputs": [],
   "source": [
    "def test():\n",
    "    nodes = [1,2,3,4,5,6]\n",
    "    edges = [(1, 2), (1, 3), (1, 4), (1, 5), (1, 6), (1, 1), (2, 1), (2, 4), (2, 6), (2, 3), (2, 5), (3, 2), (3, 6), (3, 5), (4, 1), (4, 6), (5, 2), (5, 3), (6, 1)]\n",
    "    adjList = getAdjList(nodes, edges)\n",
    "    M = getM(adjList)\n",
    "    print M\n",
    "    print pageRank(M, 0.8)"
   ]
  },
  {
   "cell_type": "code",
   "execution_count": 39,
   "metadata": {
    "collapsed": false
   },
   "outputs": [
    {
     "name": "stdout",
     "output_type": "stream",
     "text": [
      "[[ 0.16666667  0.2         0.          0.5         0.          1.        ]\n",
      " [ 0.16666667  0.          0.33333333  0.          0.5         0.        ]\n",
      " [ 0.16666667  0.2         0.          0.          0.5         0.        ]\n",
      " [ 0.16666667  0.2         0.          0.          0.          0.        ]\n",
      " [ 0.16666667  0.2         0.33333333  0.          0.          0.        ]\n",
      " [ 0.16666667  0.2         0.33333333  0.5         0.          0.        ]]\n",
      "[ 0.27528617  0.16504385  0.15114541  0.09644519  0.13675066  0.17532873]\n"
     ]
    }
   ],
   "source": [
    "if __name__ == '__main__':\n",
    "    test()"
   ]
  },
  {
   "cell_type": "markdown",
   "metadata": {},
   "source": [
    "## Random hyperplane"
   ]
  },
  {
   "cell_type": "code",
   "execution_count": 40,
   "metadata": {
    "collapsed": true
   },
   "outputs": [],
   "source": [
    "from numpy import dot"
   ]
  },
  {
   "cell_type": "code",
   "execution_count": 41,
   "metadata": {
    "collapsed": true
   },
   "outputs": [],
   "source": [
    "def rh(x, v):\n",
    "    return 1 if dot(x, v) >= 0 else -1"
   ]
  },
  {
   "cell_type": "code",
   "execution_count": 42,
   "metadata": {
    "collapsed": true
   },
   "outputs": [],
   "source": [
    "a = [1, 0, -2, 1, -3, 0, 0]\n",
    "b = [2, 0, -3, 0, -2, 0, 2]\n",
    "c = [1, -1, 0, 1, 2, -2, 1]\n",
    "\n",
    "x = [1, 1, 1, 1, 1, 1, 1]\n",
    "y = [-1, 1, -1, 1, -1, 1, -1]\n",
    "z = [1, 1, 1, -1, -1, -1, -1]"
   ]
  },
  {
   "cell_type": "code",
   "execution_count": 43,
   "metadata": {
    "collapsed": false
   },
   "outputs": [
    {
     "name": "stdout",
     "output_type": "stream",
     "text": [
      "a\n",
      "-1\n",
      "1\n",
      "1\n"
     ]
    }
   ],
   "source": [
    "print \"a\"\n",
    "print rh(a, x)\n",
    "print rh(a, y)\n",
    "print rh(a, z)"
   ]
  },
  {
   "cell_type": "code",
   "execution_count": 44,
   "metadata": {
    "collapsed": false
   },
   "outputs": [
    {
     "name": "stdout",
     "output_type": "stream",
     "text": [
      "b\n",
      "-1\n",
      "1\n",
      "-1\n"
     ]
    }
   ],
   "source": [
    "print \"b\"\n",
    "print rh(b, x)\n",
    "print rh(b, y)\n",
    "print rh(b, z)"
   ]
  },
  {
   "cell_type": "code",
   "execution_count": 45,
   "metadata": {
    "collapsed": false
   },
   "outputs": [
    {
     "name": "stdout",
     "output_type": "stream",
     "text": [
      "c\n",
      "1\n",
      "-1\n",
      "-1\n"
     ]
    }
   ],
   "source": [
    "print \"c\"\n",
    "print rh(c, x)\n",
    "print rh(c, y)\n",
    "print rh(c, z)"
   ]
  },
  {
   "cell_type": "markdown",
   "metadata": {},
   "source": [
    "Estimate angles"
   ]
  },
  {
   "cell_type": "code",
   "execution_count": 46,
   "metadata": {
    "collapsed": true
   },
   "outputs": [],
   "source": [
    "from scipy.spatial.distance import cosine\n",
    "from numpy import arccos\n",
    "from numpy import pi"
   ]
  },
  {
   "cell_type": "code",
   "execution_count": 47,
   "metadata": {
    "collapsed": true
   },
   "outputs": [],
   "source": [
    "a = [-1, 1, 1]\n",
    "b = [-1, 1, -1]\n",
    "c = [1, -1, -1]"
   ]
  },
  {
   "cell_type": "code",
   "execution_count": 48,
   "metadata": {
    "collapsed": false
   },
   "outputs": [
    {
     "name": "stdout",
     "output_type": "stream",
     "text": [
      "70.5287793655\n",
      "109.471220634\n",
      "180.0\n"
     ]
    }
   ],
   "source": [
    "print arccos(1 - cosine(a, b)) / pi * 180\n",
    "print arccos(1 - cosine(b, c)) / pi * 180\n",
    "print arccos(1 - cosine(c, a)) / pi * 180"
   ]
  },
  {
   "cell_type": "markdown",
   "metadata": {},
   "source": [
    "## Jaccard similarity"
   ]
  },
  {
   "cell_type": "code",
   "execution_count": 49,
   "metadata": {
    "collapsed": true
   },
   "outputs": [],
   "source": [
    "from scipy.spatial.distance import jaccard\n",
    "from scipy.spatial.distance import cosine"
   ]
  },
  {
   "cell_type": "code",
   "execution_count": 50,
   "metadata": {
    "collapsed": true
   },
   "outputs": [],
   "source": [
    "def jaccard_sim(u, v):\n",
    "    return 1 - jaccard(u, v)"
   ]
  },
  {
   "cell_type": "code",
   "execution_count": 51,
   "metadata": {
    "collapsed": true
   },
   "outputs": [],
   "source": [
    "def cosine_sim(u, v):\n",
    "    return 1 - cosine(u, v)"
   ]
  },
  {
   "cell_type": "code",
   "execution_count": 52,
   "metadata": {
    "collapsed": false
   },
   "outputs": [
    {
     "name": "stdout",
     "output_type": "stream",
     "text": [
      "0.2\n"
     ]
    }
   ],
   "source": [
    "print jaccard_sim([1,0,0,1,1], [0,1,1,1,0])"
   ]
  },
  {
   "cell_type": "code",
   "execution_count": 53,
   "metadata": {
    "collapsed": false
   },
   "outputs": [
    {
     "name": "stdout",
     "output_type": "stream",
     "text": [
      "0.5\n"
     ]
    }
   ],
   "source": [
    "print cosine_sim([1,0,1], [0,1,1])"
   ]
  },
  {
   "cell_type": "code",
   "execution_count": 54,
   "metadata": {
    "collapsed": false
   },
   "outputs": [
    {
     "name": "stdout",
     "output_type": "stream",
     "text": [
      "0.739026133327\n"
     ]
    }
   ],
   "source": [
    "print cosine_sim([5.22, 1.42], [4.06, 6.39])"
   ]
  },
  {
   "cell_type": "code",
   "execution_count": null,
   "metadata": {
    "collapsed": true
   },
   "outputs": [],
   "source": []
  }
 ],
 "metadata": {
  "kernelspec": {
   "display_name": "Python 2",
   "language": "python",
   "name": "python2"
  },
  "language_info": {
   "codemirror_mode": {
    "name": "ipython",
    "version": 2
   },
   "file_extension": ".py",
   "mimetype": "text/x-python",
   "name": "python",
   "nbconvert_exporter": "python",
   "pygments_lexer": "ipython2",
   "version": "2.7.10"
  }
 },
 "nbformat": 4,
 "nbformat_minor": 0
}
