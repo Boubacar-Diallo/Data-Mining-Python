{
 "cells": [
  {
   "cell_type": "markdown",
   "metadata": {},
   "source": [
    "# PageRank exercise"
   ]
  },
  {
   "cell_type": "markdown",
   "metadata": {},
   "source": [
    "## Question 1\n",
    "Consider three Web pages with the following links:"
   ]
  },
  {
   "cell_type": "code",
   "execution_count": 1,
   "metadata": {
    "collapsed": false
   },
   "outputs": [
    {
     "data": {
      "image/jpeg": "[encoded data removed]",
      "text/plain": [
       "<IPython.core.display.Image object>"
      ]
     },
     "execution_count": 1,
     "metadata": {},
     "output_type": "execute_result"
    }
   ],
   "source": [
    "from IPython.display import Image\n",
    "Image(filename='pagerank1.jpeg')"
   ]
  },
  {
   "cell_type": "markdown",
   "metadata": {},
   "source": [
    "Suppose we compute PageRank with a β of 0.7, and we introduce the additional constraint that the sum of the PageRanks of the three pages must be 3, to handle the problem that otherwise any multiple of a solution will also be a solution. Compute the PageRanks *a*, *b*, and *c* of the three pages A, B, and C, respectively."
   ]
  },
  {
   "cell_type": "code",
   "execution_count": 2,
   "metadata": {
    "collapsed": false
   },
   "outputs": [
    {
     "name": "stdout",
     "output_type": "stream",
     "text": [
      "Final PageRank: \n",
      "[[ 0.3  ]\n",
      " [ 0.405]\n",
      " [ 2.295]]\n"
     ]
    }
   ],
   "source": [
    "import numpy as np\n",
    "\n",
    "# Adjacency matrix\n",
    "# m1 = [ 0,  0, 0]\n",
    "#      [0.5, 0, 0]\n",
    "#      [0.5, 1, 1]\n",
    "\n",
    "m1 = np.matrix([[0, 0, 0],[0.5, 0, 0],[0.5, 1, 1]])\n",
    "beta = 0.7\n",
    "\n",
    "# r = beta * m1 * r + ((1-beta)/N) \n",
    "def r_p(r):\n",
    "    return beta * m1 * r + np.matrix([0.1,0.1,0.1]).T\n",
    "\n",
    "r = np.matrix([1.0/3,1.0/3,1.0/3]).T\n",
    "\n",
    "for i in range(1000):\n",
    "    r = r_p(r)\n",
    "print \"Final PageRank: \\n\" + str(r*3)"
   ]
  },
  {
   "cell_type": "code",
   "execution_count": 3,
   "metadata": {
    "collapsed": false
   },
   "outputs": [
    {
     "name": "stdout",
     "output_type": "stream",
     "text": [
      "a =  [[ 0.3]]\n",
      "b =  [[ 0.405]]\n",
      "c =  [[ 2.295]]\n",
      "a + b =  [[ 0.705]]\n",
      "b + c =  [[ 2.7]]\n",
      "a + c =  [[ 2.595]]\n"
     ]
    }
   ],
   "source": [
    "a = r[0] * 3\n",
    "b = r[1] * 3\n",
    "c = r[2] * 3\n",
    "\n",
    "print 'a = ', a\n",
    "print 'b = ', b\n",
    "print 'c = ', c\n",
    "print 'a + b = ', a + b\n",
    "print 'b + c = ', b + c\n",
    "print 'a + c = ', a + c"
   ]
  },
  {
   "cell_type": "markdown",
   "metadata": {},
   "source": [
    "## Question 2\n",
    "Consider three Web pages with the following links:"
   ]
  },
  {
   "cell_type": "code",
   "execution_count": 4,
   "metadata": {
    "collapsed": false
   },
   "outputs": [
    {
     "data": {
      "image/jpeg": "[encoded data removed]",
      "text/plain": [
       "<IPython.core.display.Image object>"
      ]
     },
     "execution_count": 4,
     "metadata": {},
     "output_type": "execute_result"
    }
   ],
   "source": [
    "Image(filename='pagerank2.jpeg')"
   ]
  },
  {
   "cell_type": "markdown",
   "metadata": {},
   "source": [
    "Suppose we compute PageRank with β=0.85. Write the equations for the PageRanks *a*, *b*, and *c* of the three pages A, B, and C, respectively. Then, identify the correct equations representing a, b and c."
   ]
  },
  {
   "cell_type": "code",
   "execution_count": 5,
   "metadata": {
    "collapsed": false
   },
   "outputs": [
    {
     "name": "stdout",
     "output_type": "stream",
     "text": [
      "Final PageRank: \n",
      "[[ 0.38778971]\n",
      " [ 0.21481063]\n",
      " [ 0.39739966]]\n"
     ]
    }
   ],
   "source": [
    "import numpy as np\n",
    "\n",
    "# Adjacency matrix\n",
    "# m2 = [ 0,  0, 1]\n",
    "#      [0.5, 0, 0]\n",
    "#      [0.5, 1, 0]\n",
    "\n",
    "m2 = np.matrix([[0, 0, 1],[0.5, 0, 0],[0.5, 1, 0]])\n",
    "beta =0.85\n",
    "\n",
    "def r_p(r):\n",
    "    return beta * m2 * r + np.matrix([0.05,0.05,0.05]).T\n",
    "\n",
    "r = np.matrix([1.0/3,1.0/3,1.0/3]).T\n",
    "\n",
    "for i in range(1000):\n",
    "    r = r_p(r)\n",
    "print \"Final PageRank: \\n\" + str(r) "
   ]
  },
  {
   "cell_type": "code",
   "execution_count": 6,
   "metadata": {
    "collapsed": false
   },
   "outputs": [
    {
     "name": "stdout",
     "output_type": "stream",
     "text": [
      "0.95a =  [[ 0.36840023]] = 0.9c + 0.05b =  [[ 0.36840023]]\n",
      "0.95b =  [[ 0.2040701]] = 0.475a + 0.05c =  [[ 0.2040701]]\n",
      "0.95c =  [[ 0.37752968]] = 0.9b + 0.475a =  [[ 0.37752968]]\n"
     ]
    }
   ],
   "source": [
    "a = r[0]\n",
    "b = r[1]\n",
    "c = r[2]\n",
    "\n",
    "print \"0.95a = \", 0.95*a, \"= 0.9c + 0.05b = \", 0.9*c + 0.05*b\n",
    "print \"0.95b = \", 0.95*b, \"= 0.475a + 0.05c = \", 0.475*a + 0.05*c\n",
    "print \"0.95c = \", 0.95*c, \"= 0.9b + 0.475a = \",  0.9*b + 0.475*a"
   ]
  },
  {
   "cell_type": "markdown",
   "metadata": {},
   "source": [
    "## Question 3 \n",
    "Consider three Web pages with the following links:"
   ]
  },
  {
   "cell_type": "code",
   "execution_count": 7,
   "metadata": {
    "collapsed": false
   },
   "outputs": [
    {
     "data": {
      "image/jpeg": "[encoded data removed]",
      "text/plain": [
       "<IPython.core.display.Image object>"
      ]
     },
     "execution_count": 7,
     "metadata": {},
     "output_type": "execute_result"
    }
   ],
   "source": [
    "Image(filename='pagerank2.jpeg')"
   ]
  },
  {
   "cell_type": "markdown",
   "metadata": {},
   "source": [
    "Assuming no \"taxation,\" compute the PageRanks *a*, *b*, and *c* of the three pages A, B, and C, using iteration, starting with the \"0th\" iteration where all three pages have rank *a* = *b* = *c* = 1. Compute as far as the 5th iteration, and also determine what the PageRanks are in the limit."
   ]
  },
  {
   "cell_type": "code",
   "execution_count": 8,
   "metadata": {
    "collapsed": false
   },
   "outputs": [
    {
     "name": "stdout",
     "output_type": "stream",
     "text": [
      "1\n",
      "[[ 1. ]\n",
      " [ 0.5]\n",
      " [ 1.5]]\n",
      "2\n",
      "[[ 1.5]\n",
      " [ 0.5]\n",
      " [ 1. ]]\n",
      "3\n",
      "[[ 1.  ]\n",
      " [ 0.75]\n",
      " [ 1.25]]\n",
      "4\n",
      "[[ 1.25]\n",
      " [ 0.5 ]\n",
      " [ 1.25]]\n",
      "5\n",
      "[[ 1.25 ]\n",
      " [ 0.625]\n",
      " [ 1.125]]\n",
      "6\n",
      "[[ 1.125]\n",
      " [ 0.625]\n",
      " [ 1.25 ]]\n",
      "7\n",
      "[[ 1.25  ]\n",
      " [ 0.5625]\n",
      " [ 1.1875]]\n",
      "8\n",
      "[[ 1.1875]\n",
      " [ 0.625 ]\n",
      " [ 1.1875]]\n",
      "9\n",
      "[[ 1.1875 ]\n",
      " [ 0.59375]\n",
      " [ 1.21875]]\n",
      "10\n",
      "[[ 1.21875]\n",
      " [ 0.59375]\n",
      " [ 1.1875 ]]\n",
      "11\n",
      "[[ 1.1875  ]\n",
      " [ 0.609375]\n",
      " [ 1.203125]]\n",
      "12\n",
      "[[ 1.203125]\n",
      " [ 0.59375 ]\n",
      " [ 1.203125]]\n",
      "13\n",
      "[[ 1.203125 ]\n",
      " [ 0.6015625]\n",
      " [ 1.1953125]]\n",
      "14\n",
      "[[ 1.1953125]\n",
      " [ 0.6015625]\n",
      " [ 1.203125 ]]\n",
      "15\n",
      "[[ 1.203125  ]\n",
      " [ 0.59765625]\n",
      " [ 1.19921875]]\n",
      "16\n",
      "[[ 1.19921875]\n",
      " [ 0.6015625 ]\n",
      " [ 1.19921875]]\n",
      "17\n",
      "[[ 1.19921875]\n",
      " [ 0.59960938]\n",
      " [ 1.20117188]]\n",
      "18\n",
      "[[ 1.20117188]\n",
      " [ 0.59960938]\n",
      " [ 1.19921875]]\n",
      "19\n",
      "[[ 1.19921875]\n",
      " [ 0.60058594]\n",
      " [ 1.20019531]]\n",
      "20\n",
      "[[ 1.20019531]\n",
      " [ 0.59960938]\n",
      " [ 1.20019531]]\n",
      "21\n",
      "[[ 1.20019531]\n",
      " [ 0.60009766]\n",
      " [ 1.19970703]]\n",
      "22\n",
      "[[ 1.19970703]\n",
      " [ 0.60009766]\n",
      " [ 1.20019531]]\n",
      "23\n",
      "[[ 1.20019531]\n",
      " [ 0.59985352]\n",
      " [ 1.19995117]]\n",
      "24\n",
      "[[ 1.19995117]\n",
      " [ 0.60009766]\n",
      " [ 1.19995117]]\n",
      "25\n",
      "[[ 1.19995117]\n",
      " [ 0.59997559]\n",
      " [ 1.20007324]]\n",
      "26\n",
      "[[ 1.20007324]\n",
      " [ 0.59997559]\n",
      " [ 1.19995117]]\n",
      "27\n",
      "[[ 1.19995117]\n",
      " [ 0.60003662]\n",
      " [ 1.20001221]]\n",
      "28\n",
      "[[ 1.20001221]\n",
      " [ 0.59997559]\n",
      " [ 1.20001221]]\n",
      "29\n",
      "[[ 1.20001221]\n",
      " [ 0.6000061 ]\n",
      " [ 1.19998169]]\n",
      "30\n",
      "[[ 1.19998169]\n",
      " [ 0.6000061 ]\n",
      " [ 1.20001221]]\n",
      "31\n",
      "[[ 1.20001221]\n",
      " [ 0.59999084]\n",
      " [ 1.19999695]]\n",
      "32\n",
      "[[ 1.19999695]\n",
      " [ 0.6000061 ]\n",
      " [ 1.19999695]]\n",
      "33\n",
      "[[ 1.19999695]\n",
      " [ 0.59999847]\n",
      " [ 1.20000458]]\n",
      "34\n",
      "[[ 1.20000458]\n",
      " [ 0.59999847]\n",
      " [ 1.19999695]]\n",
      "35\n",
      "[[ 1.19999695]\n",
      " [ 0.60000229]\n",
      " [ 1.20000076]]\n",
      "36\n",
      "[[ 1.20000076]\n",
      " [ 0.59999847]\n",
      " [ 1.20000076]]\n",
      "37\n",
      "[[ 1.20000076]\n",
      " [ 0.60000038]\n",
      " [ 1.19999886]]\n",
      "38\n",
      "[[ 1.19999886]\n",
      " [ 0.60000038]\n",
      " [ 1.20000076]]\n",
      "39\n",
      "[[ 1.20000076]\n",
      " [ 0.59999943]\n",
      " [ 1.19999981]]\n",
      "40\n",
      "[[ 1.19999981]\n",
      " [ 0.60000038]\n",
      " [ 1.19999981]]\n",
      "41\n",
      "[[ 1.19999981]\n",
      " [ 0.5999999 ]\n",
      " [ 1.20000029]]\n",
      "42\n",
      "[[ 1.20000029]\n",
      " [ 0.5999999 ]\n",
      " [ 1.19999981]]\n",
      "43\n",
      "[[ 1.19999981]\n",
      " [ 0.60000014]\n",
      " [ 1.20000005]]\n",
      "44\n",
      "[[ 1.20000005]\n",
      " [ 0.5999999 ]\n",
      " [ 1.20000005]]\n",
      "45\n",
      "[[ 1.20000005]\n",
      " [ 0.60000002]\n",
      " [ 1.19999993]]\n",
      "46\n",
      "[[ 1.19999993]\n",
      " [ 0.60000002]\n",
      " [ 1.20000005]]\n",
      "47\n",
      "[[ 1.20000005]\n",
      " [ 0.59999996]\n",
      " [ 1.19999999]]\n",
      "48\n",
      "[[ 1.19999999]\n",
      " [ 0.60000002]\n",
      " [ 1.19999999]]\n",
      "49\n",
      "[[ 1.19999999]\n",
      " [ 0.59999999]\n",
      " [ 1.20000002]]\n",
      "50\n",
      "[[ 1.20000002]\n",
      " [ 0.59999999]\n",
      " [ 1.19999999]]\n"
     ]
    }
   ],
   "source": [
    "import numpy as np\n",
    "\n",
    "# Adjacency matrix\n",
    "# m3 = [ 0,  0, 1]\n",
    "#      [0.5, 0, 0]\n",
    "#      [0.5, 1, 0]\n",
    "\n",
    "m3 = np.matrix([[0, 0, 1],[0.5, 0, 0],[0.5, 1, 0]])\n",
    "beta = 1\n",
    "r = np.matrix([1,1,1]).T\n",
    "\n",
    "for i in range(50):\n",
    "    r = m3.dot(r)\n",
    "    print i+1\n",
    "    print r"
   ]
  },
  {
   "cell_type": "code",
   "execution_count": 9,
   "metadata": {
    "collapsed": false
   },
   "outputs": [
    {
     "name": "stdout",
     "output_type": "stream",
     "text": [
      "Final PageRank: \n",
      "[[ 1.20000002]\n",
      " [ 0.59999999]\n",
      " [ 1.19999999]]\n"
     ]
    }
   ],
   "source": [
    "print \"Final PageRank: \\n\" + str(r)"
   ]
  },
  {
   "cell_type": "markdown",
   "metadata": {},
   "source": [
    "## Question 4\n",
    "Consider the link graph below. First, construct the L, the link matrix, as discussed in the HITS algorithm. Then do the following:\n",
    "\n",
    "1. Start by assuming the hubbiness of each node is 1; that is, the vector h is (the transpose of) [1,1,1,1].\n",
    "2. Compute an estimate of the authority vector $a=L^Th$.\n",
    "3. Normalize **a** by dividing all values so the largest value is 1.\n",
    "4. Compute an estimate of the hubbiness vector **h**=L**a**.\n",
    "5. Normalize **h** by dividing all values so the largest value is 1.\n",
    "6. Repeat steps 2-5.\n",
    "\n",
    "Now, identify the final estimates. "
   ]
  },
  {
   "cell_type": "code",
   "execution_count": 10,
   "metadata": {
    "collapsed": false
   },
   "outputs": [
    {
     "data": {
      "image/jpeg": "[encoded data removed]",
      "text/plain": [
       "<IPython.core.display.Image object>"
      ]
     },
     "execution_count": 10,
     "metadata": {},
     "output_type": "execute_result"
    }
   ],
   "source": [
    "Image(filename='pagerank4.jpg')"
   ]
  },
  {
   "cell_type": "code",
   "execution_count": 11,
   "metadata": {
    "collapsed": true
   },
   "outputs": [],
   "source": [
    "import numpy as np\n",
    "\n",
    "# Function to normalize all values so that the largest value is 1\n",
    "def norm(Matrix):\n",
    "    return Matrix/float(Matrix.max())\n",
    "\n",
    "def estimate(L,h):\n",
    "    # To estimate of the authority vector a = LTh\n",
    "    #a = L.T*h\n",
    "    a = np.dot(L.T, h)\n",
    "    # Normalize a by dividing all values so the largest value is 1\n",
    "    a = norm(a)\n",
    "    # To estimate of the hubbiness vector h = La\n",
    "    #h = L*a\n",
    "    h = np.dot(L, a)\n",
    "    # Normalize h by dividing all values so the largest value is 1\n",
    "    h = norm(h)\n",
    "    \n",
    "    return a,h\n",
    "\n",
    "# The vector h is (the transpose of) [1,1,1,1]\n",
    "h = np.matrix([1,1,1,1]).T\n",
    "# The link graph: 1->2; 1->3; 2->1; 3->4; 4->3\n",
    "L = np.matrix([[0,1,1,0],\n",
    "               [1,0,0,0],\n",
    "               [0,0,0,1],\n",
    "               [0,0,1,0]])\n"
   ]
  },
  {
   "cell_type": "code",
   "execution_count": 12,
   "metadata": {
    "collapsed": false
   },
   "outputs": [
    {
     "name": "stdout",
     "output_type": "stream",
     "text": [
      "After step 1:\n",
      "authority: [[ 0.5  0.5  1.   0.5]]\n",
      "hubbiness: [[ 1.     0.333  0.333  0.667]]\n"
     ]
    }
   ],
   "source": [
    "# After step 1\n",
    "a,h = estimate(L,h)\n",
    "print \"After step 1:\"\n",
    "print \"authority:\", np.round(a.T, decimals=3)\n",
    "print \"hubbiness:\", np.round(h.T, decimals=3) "
   ]
  },
  {
   "cell_type": "code",
   "execution_count": 13,
   "metadata": {
    "collapsed": false
   },
   "outputs": [
    {
     "name": "stdout",
     "output_type": "stream",
     "text": [
      "Final estimate:\n",
      "authority: [[ 0.2  0.6  1.   0.2]]\n",
      "hubbiness: [[ 1.     0.125  0.125  0.625]]\n"
     ]
    }
   ],
   "source": [
    "# After step 2 (repeat of step 1)\n",
    "a,h = estimate(L,h)\n",
    "print \"Final estimate:\"\n",
    "print \"authority:\", np.round(a.T, decimals=3)\n",
    "print \"hubbiness:\", np.round(h.T, decimals=3)"
   ]
  },
  {
   "cell_type": "markdown",
   "metadata": {},
   "source": [
    "## Question 5\n",
    "Compute the Topic-Specific PageRank for the following link topology. Assume that pages selected for the teleport set are nodes 1 and 2 and that in the teleport set, the weight assigned for node 1 is twice that of node 2. Assume further that the teleport probability, (1 - beta), is 0.3. Which of the following statements is correct?"
   ]
  },
  {
   "cell_type": "code",
   "execution_count": 14,
   "metadata": {
    "collapsed": false
   },
   "outputs": [
    {
     "data": {
      "image/jpeg": "[encoded data removed]",
      "text/plain": [
       "<IPython.core.display.Image object>"
      ]
     },
     "execution_count": 14,
     "metadata": {},
     "output_type": "execute_result"
    }
   ],
   "source": [
    "Image(filename='pagerank4.jpg')"
   ]
  },
  {
   "cell_type": "code",
   "execution_count": 15,
   "metadata": {
    "collapsed": true
   },
   "outputs": [],
   "source": [
    "import numpy as np\n",
    "\n",
    "A = np.matrix([[ 0.0, 0.5, 0.5, 0.0 ],\n",
    "              [ 1.0, 0.0, 0.0, 0.0 ],\n",
    "              [ 0.0, 0.0, 0.0, 1.0 ],\n",
    "              [ 0.0, 0.0, 1.0, 0.0 ],]).T\n",
    "\n",
    "w = 1.0/3.0\n",
    "\n",
    "B = np.matrix([[2*w, 2*w, 2*w, 2*w],\n",
    "              [w, w, w, w],\n",
    "              [0, 0, 0, 0],\n",
    "              [0, 0, 0, 0]])\n",
    "\n",
    "beta = 0.7"
   ]
  },
  {
   "cell_type": "code",
   "execution_count": 16,
   "metadata": {
    "collapsed": false
   },
   "outputs": [
    {
     "name": "stdout",
     "output_type": "stream",
     "text": [
      "1\n",
      "[[ 0.375 ]\n",
      " [ 0.1875]\n",
      " [ 0.2625]\n",
      " [ 0.175 ]]\n",
      "2\n",
      "[[ 0.33125]\n",
      " [ 0.23125]\n",
      " [ 0.25375]\n",
      " [ 0.18375]]\n",
      "3\n",
      "[[ 0.361875 ]\n",
      " [ 0.2159375]\n",
      " [ 0.2445625]\n",
      " [ 0.177625 ]]\n",
      "4\n",
      "[[ 0.35115625]\n",
      " [ 0.22665625]\n",
      " [ 0.25099375]\n",
      " [ 0.17119375]]\n",
      "5\n",
      "[[ 0.35865937]\n",
      " [ 0.22290469]\n",
      " [ 0.24274031]\n",
      " [ 0.17569562]]\n",
      "6\n",
      "[[ 0.35603328]\n",
      " [ 0.22553078]\n",
      " [ 0.24851772]\n",
      " [ 0.16991822]]\n",
      "7\n",
      "[[ 0.35787155]\n",
      " [ 0.22461165]\n",
      " [ 0.2435544 ]\n",
      " [ 0.1739624 ]]\n",
      "8\n",
      "[[ 0.35722815]\n",
      " [ 0.22525504]\n",
      " [ 0.24702872]\n",
      " [ 0.17048808]]\n",
      "9\n",
      "[[ 0.35767853]\n",
      " [ 0.22502985]\n",
      " [ 0.24437151]\n",
      " [ 0.17292011]]\n",
      "10\n",
      "[[ 0.3575209 ]\n",
      " [ 0.22518749]\n",
      " [ 0.24623156]\n",
      " [ 0.17106006]]\n",
      "11\n",
      "[[ 0.35763124]\n",
      " [ 0.22513231]\n",
      " [ 0.24487435]\n",
      " [ 0.17236209]]\n",
      "12\n",
      "[[ 0.35759262]\n",
      " [ 0.22517093]\n",
      " [ 0.2458244 ]\n",
      " [ 0.17141205]]\n",
      "13\n",
      "[[ 0.35761965]\n",
      " [ 0.22515742]\n",
      " [ 0.24514585]\n",
      " [ 0.17207708]]\n",
      "14\n",
      "[[ 0.35761019]\n",
      " [ 0.22516688]\n",
      " [ 0.24562083]\n",
      " [ 0.1716021 ]]\n",
      "15\n",
      "[[ 0.35761682]\n",
      " [ 0.22516357]\n",
      " [ 0.24528503]\n",
      " [ 0.17193458]]\n",
      "16\n",
      "[[ 0.3576145 ]\n",
      " [ 0.22516589]\n",
      " [ 0.24552009]\n",
      " [ 0.17169952]]\n",
      "17\n",
      "[[ 0.35761612]\n",
      " [ 0.22516507]\n",
      " [ 0.24535474]\n",
      " [ 0.17186407]]\n",
      "18\n",
      "[[ 0.35761555]\n",
      " [ 0.22516564]\n",
      " [ 0.24547049]\n",
      " [ 0.17174832]]\n",
      "19\n",
      "[[ 0.35761595]\n",
      " [ 0.22516544]\n",
      " [ 0.24538927]\n",
      " [ 0.17182934]]\n",
      "20\n",
      "[[ 0.35761581]\n",
      " [ 0.22516558]\n",
      " [ 0.24544612]\n",
      " [ 0.17177249]]\n",
      "21\n",
      "[[ 0.35761591]\n",
      " [ 0.22516553]\n",
      " [ 0.24540627]\n",
      " [ 0.17181228]]\n",
      "22\n",
      "[[ 0.35761587]\n",
      " [ 0.22516557]\n",
      " [ 0.24543417]\n",
      " [ 0.17178439]]\n",
      "23\n",
      "[[ 0.3576159 ]\n",
      " [ 0.22516556]\n",
      " [ 0.24541463]\n",
      " [ 0.17180392]]\n",
      "24\n",
      "[[ 0.35761589]\n",
      " [ 0.22516556]\n",
      " [ 0.24542831]\n",
      " [ 0.17179024]]\n",
      "25\n",
      "[[ 0.35761589]\n",
      " [ 0.22516556]\n",
      " [ 0.24541873]\n",
      " [ 0.17179981]]\n",
      "26\n",
      "[[ 0.35761589]\n",
      " [ 0.22516556]\n",
      " [ 0.24542543]\n",
      " [ 0.17179311]]\n",
      "27\n",
      "[[ 0.35761589]\n",
      " [ 0.22516556]\n",
      " [ 0.24542074]\n",
      " [ 0.1717978 ]]\n",
      "28\n",
      "[[ 0.35761589]\n",
      " [ 0.22516556]\n",
      " [ 0.24542403]\n",
      " [ 0.17179452]]\n",
      "29\n",
      "[[ 0.35761589]\n",
      " [ 0.22516556]\n",
      " [ 0.24542173]\n",
      " [ 0.17179682]]\n",
      "30\n",
      "[[ 0.35761589]\n",
      " [ 0.22516556]\n",
      " [ 0.24542334]\n",
      " [ 0.17179521]]\n",
      "31\n",
      "[[ 0.35761589]\n",
      " [ 0.22516556]\n",
      " [ 0.24542221]\n",
      " [ 0.17179633]]\n",
      "32\n",
      "[[ 0.35761589]\n",
      " [ 0.22516556]\n",
      " [ 0.245423  ]\n",
      " [ 0.17179555]]\n",
      "33\n",
      "[[ 0.35761589]\n",
      " [ 0.22516556]\n",
      " [ 0.24542245]\n",
      " [ 0.1717961 ]]\n",
      "34\n",
      "[[ 0.35761589]\n",
      " [ 0.22516556]\n",
      " [ 0.24542283]\n",
      " [ 0.17179571]]\n",
      "35\n",
      "[[ 0.35761589]\n",
      " [ 0.22516556]\n",
      " [ 0.24542256]\n",
      " [ 0.17179598]]\n",
      "36\n",
      "[[ 0.35761589]\n",
      " [ 0.22516556]\n",
      " [ 0.24542275]\n",
      " [ 0.17179579]]\n",
      "37\n",
      "[[ 0.35761589]\n",
      " [ 0.22516556]\n",
      " [ 0.24542262]\n",
      " [ 0.17179593]]\n",
      "38\n",
      "[[ 0.35761589]\n",
      " [ 0.22516556]\n",
      " [ 0.24542271]\n",
      " [ 0.17179583]]\n",
      "39\n",
      "[[ 0.35761589]\n",
      " [ 0.22516556]\n",
      " [ 0.24542265]\n",
      " [ 0.1717959 ]]\n",
      "40\n",
      "[[ 0.35761589]\n",
      " [ 0.22516556]\n",
      " [ 0.24542269]\n",
      " [ 0.17179585]]\n",
      "41\n",
      "[[ 0.35761589]\n",
      " [ 0.22516556]\n",
      " [ 0.24542266]\n",
      " [ 0.17179588]]\n",
      "42\n",
      "[[ 0.35761589]\n",
      " [ 0.22516556]\n",
      " [ 0.24542268]\n",
      " [ 0.17179586]]\n",
      "43\n",
      "[[ 0.35761589]\n",
      " [ 0.22516556]\n",
      " [ 0.24542267]\n",
      " [ 0.17179588]]\n",
      "44\n",
      "[[ 0.35761589]\n",
      " [ 0.22516556]\n",
      " [ 0.24542268]\n",
      " [ 0.17179587]]\n",
      "45\n",
      "[[ 0.35761589]\n",
      " [ 0.22516556]\n",
      " [ 0.24542267]\n",
      " [ 0.17179587]]\n",
      "46\n",
      "[[ 0.35761589]\n",
      " [ 0.22516556]\n",
      " [ 0.24542267]\n",
      " [ 0.17179587]]\n",
      "47\n",
      "[[ 0.35761589]\n",
      " [ 0.22516556]\n",
      " [ 0.24542267]\n",
      " [ 0.17179587]]\n",
      "48\n",
      "[[ 0.35761589]\n",
      " [ 0.22516556]\n",
      " [ 0.24542267]\n",
      " [ 0.17179587]]\n",
      "49\n",
      "[[ 0.35761589]\n",
      " [ 0.22516556]\n",
      " [ 0.24542267]\n",
      " [ 0.17179587]]\n",
      "50\n",
      "[[ 0.35761589]\n",
      " [ 0.22516556]\n",
      " [ 0.24542267]\n",
      " [ 0.17179587]]\n"
     ]
    }
   ],
   "source": [
    "r = np.ones((A.shape[0], 1)) / A.shape[0]\n",
    "\n",
    "for i in range(50):\n",
    "    r = beta * np.dot(A, r) + (1 - beta) * np.dot(B, r)\n",
    "    print i+1\n",
    "    print r"
   ]
  },
  {
   "cell_type": "markdown",
   "metadata": {},
   "source": [
    "- TSPR(1) = 0.3576\n",
    "- TSPR(2) = 0.2252\t\n",
    "- TSPR(3) = 0.2454\n",
    "- TSPR(4) = 0.1718"
   ]
  },
  {
   "cell_type": "markdown",
   "metadata": {},
   "source": [
    "## Question 6\n",
    "The spam-farm architecture suffers from the problem that the target page has many links --- one to each supporting page. To avoid that problem, the spammer could use the architecture shown below:"
   ]
  },
  {
   "cell_type": "code",
   "execution_count": 17,
   "metadata": {
    "collapsed": false
   },
   "outputs": [
    {
     "data": {
      "image/jpeg": "[encoded data removed]",
      "text/plain": [
       "<IPython.core.display.Image object>"
      ]
     },
     "execution_count": 17,
     "metadata": {},
     "output_type": "execute_result"
    }
   ],
   "source": [
    "Image(filename='pagerank5.jpeg')"
   ]
  },
  {
   "cell_type": "markdown",
   "metadata": {},
   "source": [
    "There, k \"second-tier\" nodes act as intermediaries. The target page t has only to link to the k second-tier pages, and each of those pages links to m/k of the m supporting pages. Each of the supporting pages links only to t (although most of these links are not shown). Suppose the taxation parameter is β = 0.85, and x is the amount of PageRank supplied from outside to the target page. Let n be the total number of pages in the Web. Finally, let y be the PageRank of target page t. If we compute the formula for y in terms of k, m, and n, we get a formula with the form\n",
    "\n",
    "y = ax + bm/n + ck/n\n",
    "\n",
    "Note: To arrive at this form, it is necessary at the last step to drop a low-order term that is a fraction of 1/n. Determine coefficients a, b, and c, remembering that β is fixed at 0.85. Then, identify the value of these coefficients."
   ]
  },
  {
   "cell_type": "code",
   "execution_count": 18,
   "metadata": {
    "collapsed": false
   },
   "outputs": [
    {
     "name": "stdout",
     "output_type": "stream",
     "text": [
      "a = 2.591513 , b = 0.330418 , c = 0.280855\n"
     ]
    }
   ],
   "source": [
    "import numpy as np\n",
    "import math\n",
    "\n",
    "beta = 0.85\n",
    "a = 1.0/ (1 - np.power(beta, 3))\n",
    "b = beta / (1.0 + beta + np.power(beta, 2))\n",
    "c = np.power(beta, 2)/ (1.0 + beta + np.power(beta, 2))\n",
    "print 'a = %f , b = %f , c = %f' % (a, b, c)"
   ]
  },
  {
   "cell_type": "code",
   "execution_count": null,
   "metadata": {
    "collapsed": true
   },
   "outputs": [],
   "source": []
  }
 ],
 "metadata": {
  "kernelspec": {
   "display_name": "Python 2",
   "language": "python",
   "name": "python2"
  },
  "language_info": {
   "codemirror_mode": {
    "name": "ipython",
    "version": 2
   },
   "file_extension": ".py",
   "mimetype": "text/x-python",
   "name": "python",
   "nbconvert_exporter": "python",
   "pygments_lexer": "ipython2",
   "version": "2.7.9"
  }
 },
 "nbformat": 4,
 "nbformat_minor": 0
}
